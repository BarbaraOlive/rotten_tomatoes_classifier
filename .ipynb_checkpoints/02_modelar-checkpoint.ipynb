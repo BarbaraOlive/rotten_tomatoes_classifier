{
 "cells": [
  {
   "cell_type": "code",
   "execution_count": 63,
   "id": "407babe6",
   "metadata": {
    "id": "407babe6",
    "scrolled": true
   },
   "outputs": [],
   "source": [
    "import pandas as pd\n",
    "import numpy as np\n",
    "import matplotlib.pyplot as plt\n",
    "import seaborn as sns\n",
    "import os\n",
    "\n",
    "sns.set_palette('rainbow',8, 0.45)"
   ]
  },
  {
   "cell_type": "code",
   "execution_count": 295,
   "id": "095f22e6",
   "metadata": {
    "id": "095f22e6"
   },
   "outputs": [],
   "source": [
    "files_path = 'Files'"
   ]
  },
  {
   "cell_type": "code",
   "execution_count": 65,
   "id": "2824af4a",
   "metadata": {
    "id": "2824af4a"
   },
   "outputs": [],
   "source": [
    "rt_movies = pd.read_csv(os.path.join(files_path, \"rt_movies.csv\"), index_col=0)\n",
    "rt_reviews = pd.read_csv(os.path.join(files_path, \"rt_reviews.csv\"), index_col=0)"
   ]
  },
  {
   "cell_type": "code",
   "execution_count": 66,
   "id": "b24d486e-45cd-4da9-84b9-8add922e29c1",
   "metadata": {},
   "outputs": [
    {
     "data": {
      "text/html": [
       "<div>\n",
       "<style scoped>\n",
       "    .dataframe tbody tr th:only-of-type {\n",
       "        vertical-align: middle;\n",
       "    }\n",
       "\n",
       "    .dataframe tbody tr th {\n",
       "        vertical-align: top;\n",
       "    }\n",
       "\n",
       "    .dataframe thead th {\n",
       "        text-align: right;\n",
       "    }\n",
       "</style>\n",
       "<table border=\"1\" class=\"dataframe\">\n",
       "  <thead>\n",
       "    <tr style=\"text-align: right;\">\n",
       "      <th></th>\n",
       "      <th>rotten_tomatoes_link</th>\n",
       "      <th>critic_name</th>\n",
       "      <th>top_critic</th>\n",
       "      <th>publisher_name</th>\n",
       "      <th>review_type</th>\n",
       "      <th>review_score</th>\n",
       "      <th>review_date</th>\n",
       "      <th>review_content</th>\n",
       "      <th>review_year</th>\n",
       "    </tr>\n",
       "  </thead>\n",
       "  <tbody>\n",
       "    <tr>\n",
       "      <th>0</th>\n",
       "      <td>m/0814255</td>\n",
       "      <td>Andrew L. Urban</td>\n",
       "      <td>False</td>\n",
       "      <td>Urban Cinefile</td>\n",
       "      <td>Fresh</td>\n",
       "      <td>NaN</td>\n",
       "      <td>2010-02-06</td>\n",
       "      <td>A fantasy adventure that fuses Greek mythology...</td>\n",
       "      <td>2010</td>\n",
       "    </tr>\n",
       "    <tr>\n",
       "      <th>1</th>\n",
       "      <td>m/0814255</td>\n",
       "      <td>Louise Keller</td>\n",
       "      <td>False</td>\n",
       "      <td>Urban Cinefile</td>\n",
       "      <td>Fresh</td>\n",
       "      <td>NaN</td>\n",
       "      <td>2010-02-06</td>\n",
       "      <td>Uma Thurman as Medusa, the gorgon with a coiff...</td>\n",
       "      <td>2010</td>\n",
       "    </tr>\n",
       "    <tr>\n",
       "      <th>2</th>\n",
       "      <td>m/0814255</td>\n",
       "      <td>NaN</td>\n",
       "      <td>False</td>\n",
       "      <td>FILMINK (Australia)</td>\n",
       "      <td>Fresh</td>\n",
       "      <td>NaN</td>\n",
       "      <td>2010-02-09</td>\n",
       "      <td>With a top-notch cast and dazzling special eff...</td>\n",
       "      <td>2010</td>\n",
       "    </tr>\n",
       "    <tr>\n",
       "      <th>3</th>\n",
       "      <td>m/0814255</td>\n",
       "      <td>Ben McEachen</td>\n",
       "      <td>False</td>\n",
       "      <td>Sunday Mail (Australia)</td>\n",
       "      <td>Fresh</td>\n",
       "      <td>3.5/5</td>\n",
       "      <td>2010-02-09</td>\n",
       "      <td>Whether audiences will get behind The Lightnin...</td>\n",
       "      <td>2010</td>\n",
       "    </tr>\n",
       "    <tr>\n",
       "      <th>4</th>\n",
       "      <td>m/0814255</td>\n",
       "      <td>Ethan Alter</td>\n",
       "      <td>True</td>\n",
       "      <td>Hollywood Reporter</td>\n",
       "      <td>Rotten</td>\n",
       "      <td>NaN</td>\n",
       "      <td>2010-02-10</td>\n",
       "      <td>What's really lacking in The Lightning Thief i...</td>\n",
       "      <td>2010</td>\n",
       "    </tr>\n",
       "  </tbody>\n",
       "</table>\n",
       "</div>"
      ],
      "text/plain": [
       "  rotten_tomatoes_link      critic_name  top_critic           publisher_name  \\\n",
       "0            m/0814255  Andrew L. Urban       False           Urban Cinefile   \n",
       "1            m/0814255    Louise Keller       False           Urban Cinefile   \n",
       "2            m/0814255              NaN       False      FILMINK (Australia)   \n",
       "3            m/0814255     Ben McEachen       False  Sunday Mail (Australia)   \n",
       "4            m/0814255      Ethan Alter        True       Hollywood Reporter   \n",
       "\n",
       "  review_type review_score review_date  \\\n",
       "0       Fresh          NaN  2010-02-06   \n",
       "1       Fresh          NaN  2010-02-06   \n",
       "2       Fresh          NaN  2010-02-09   \n",
       "3       Fresh        3.5/5  2010-02-09   \n",
       "4      Rotten          NaN  2010-02-10   \n",
       "\n",
       "                                      review_content  review_year  \n",
       "0  A fantasy adventure that fuses Greek mythology...         2010  \n",
       "1  Uma Thurman as Medusa, the gorgon with a coiff...         2010  \n",
       "2  With a top-notch cast and dazzling special eff...         2010  \n",
       "3  Whether audiences will get behind The Lightnin...         2010  \n",
       "4  What's really lacking in The Lightning Thief i...         2010  "
      ]
     },
     "execution_count": 66,
     "metadata": {},
     "output_type": "execute_result"
    }
   ],
   "source": [
    "rt_reviews.head()"
   ]
  },
  {
   "cell_type": "markdown",
   "id": "42cb39ff-f63c-4792-8c71-890aa760b45a",
   "metadata": {
    "id": "9e881989",
    "tags": []
   },
   "source": [
    "## Modelagem\n"
   ]
  },
  {
   "cell_type": "code",
   "execution_count": 200,
   "id": "0c941ac9-57b2-435c-a9a8-f550fbeade58",
   "metadata": {
    "id": "EslvrQXXMT1i"
   },
   "outputs": [],
   "source": [
    "from sklearn.pipeline import Pipeline\n",
    "from sklearn.pipeline import make_pipeline\n",
    "from sklearn.feature_extraction.text import TfidfVectorizer\n",
    "from sklearn.model_selection import GridSearchCV\n",
    "from sklearn.metrics import classification_report, confusion_matrix, accuracy_score, roc_auc_score\n",
    "import scikitplot as skplt\n",
    "import pickle\n"
   ]
  },
  {
   "cell_type": "code",
   "execution_count": 68,
   "id": "8af17030-3a68-4ab2-afc9-0a4eba724a76",
   "metadata": {},
   "outputs": [],
   "source": [
    "df = rt_reviews[['review_content', 'review_type']]"
   ]
  },
  {
   "cell_type": "code",
   "execution_count": 69,
   "id": "01ba4e03-cef7-40fe-9ad0-5ed6da4c5d8d",
   "metadata": {},
   "outputs": [
    {
     "data": {
      "text/plain": [
       "Fresh     681035\n",
       "Rotten    383176\n",
       "Name: review_type, dtype: int64"
      ]
     },
     "execution_count": 69,
     "metadata": {},
     "output_type": "execute_result"
    }
   ],
   "source": [
    "df.review_type.value_counts()"
   ]
  },
  {
   "cell_type": "code",
   "execution_count": 12,
   "id": "70f2901a",
   "metadata": {
    "id": "70f2901a"
   },
   "outputs": [],
   "source": [
    "from sklearn.model_selection import train_test_split\n",
    "\n",
    "X = df['review_content']\n",
    "y = df['review_type']\n",
    "\n",
    "X_train, X_test, y_train, y_test = train_test_split(X, y, test_size=0.3, \n",
    "                                                    random_state=42, \n",
    "                                                    stratify=df['review_type'])"
   ]
  },
  {
   "cell_type": "markdown",
   "id": "9c2d171e-edae-4765-876a-767b175b27f2",
   "metadata": {
    "tags": []
   },
   "source": [
    "### Regressão Logística"
   ]
  },
  {
   "cell_type": "code",
   "execution_count": 33,
   "id": "c0f2424b",
   "metadata": {
    "collapsed": true,
    "id": "c0f2424b",
    "jupyter": {
     "outputs_hidden": true
    },
    "tags": []
   },
   "outputs": [
    {
     "ename": "KeyboardInterrupt",
     "evalue": "",
     "output_type": "error",
     "traceback": [
      "\u001b[1;31m---------------------------------------------------------------------------\u001b[0m",
      "\u001b[1;31mKeyboardInterrupt\u001b[0m                         Traceback (most recent call last)",
      "Input \u001b[1;32mIn [33]\u001b[0m, in \u001b[0;36m<cell line: 7>\u001b[1;34m()\u001b[0m\n\u001b[0;32m      2\u001b[0m \u001b[38;5;28;01mfrom\u001b[39;00m \u001b[38;5;21;01msklearn\u001b[39;00m\u001b[38;5;21;01m.\u001b[39;00m\u001b[38;5;21;01mlinear_model\u001b[39;00m \u001b[38;5;28;01mimport\u001b[39;00m LogisticRegression\n\u001b[0;32m      4\u001b[0m class_reglog \u001b[38;5;241m=\u001b[39m Pipeline([(\u001b[38;5;124m'\u001b[39m\u001b[38;5;124mtfidf\u001b[39m\u001b[38;5;124m'\u001b[39m, TfidfVectorizer()),\n\u001b[0;32m      5\u001b[0m                     (\u001b[38;5;124m'\u001b[39m\u001b[38;5;124mclass\u001b[39m\u001b[38;5;124m'\u001b[39m,  LogisticRegression(solver\u001b[38;5;241m=\u001b[39m\u001b[38;5;124m'\u001b[39m\u001b[38;5;124mnewton-cg\u001b[39m\u001b[38;5;124m'\u001b[39m, max_iter\u001b[38;5;241m=\u001b[39m\u001b[38;5;241m500\u001b[39m))])\n\u001b[1;32m----> 7\u001b[0m \u001b[43mclass_reglog\u001b[49m\u001b[38;5;241;43m.\u001b[39;49m\u001b[43mfit\u001b[49m\u001b[43m(\u001b[49m\u001b[43mX_train\u001b[49m\u001b[43m,\u001b[49m\u001b[43m \u001b[49m\u001b[43my_train\u001b[49m\u001b[43m)\u001b[49m\n\u001b[0;32m      8\u001b[0m y_reglog \u001b[38;5;241m=\u001b[39m class_reglog\u001b[38;5;241m.\u001b[39mpredict(X_test)\n\u001b[0;32m      9\u001b[0m y_proba_reglog \u001b[38;5;241m=\u001b[39m class_reglog\u001b[38;5;241m.\u001b[39mpredict_proba(X_test)\n",
      "File \u001b[1;32m~\\Documents\\Particular\\TCC\\tccenv\\lib\\site-packages\\sklearn\\pipeline.py:394\u001b[0m, in \u001b[0;36mPipeline.fit\u001b[1;34m(self, X, y, **fit_params)\u001b[0m\n\u001b[0;32m    392\u001b[0m     \u001b[38;5;28;01mif\u001b[39;00m \u001b[38;5;28mself\u001b[39m\u001b[38;5;241m.\u001b[39m_final_estimator \u001b[38;5;241m!=\u001b[39m \u001b[38;5;124m\"\u001b[39m\u001b[38;5;124mpassthrough\u001b[39m\u001b[38;5;124m\"\u001b[39m:\n\u001b[0;32m    393\u001b[0m         fit_params_last_step \u001b[38;5;241m=\u001b[39m fit_params_steps[\u001b[38;5;28mself\u001b[39m\u001b[38;5;241m.\u001b[39msteps[\u001b[38;5;241m-\u001b[39m\u001b[38;5;241m1\u001b[39m][\u001b[38;5;241m0\u001b[39m]]\n\u001b[1;32m--> 394\u001b[0m         \u001b[38;5;28mself\u001b[39m\u001b[38;5;241m.\u001b[39m_final_estimator\u001b[38;5;241m.\u001b[39mfit(Xt, y, \u001b[38;5;241m*\u001b[39m\u001b[38;5;241m*\u001b[39mfit_params_last_step)\n\u001b[0;32m    396\u001b[0m \u001b[38;5;28;01mreturn\u001b[39;00m \u001b[38;5;28mself\u001b[39m\n",
      "File \u001b[1;32m~\\Documents\\Particular\\TCC\\tccenv\\lib\\site-packages\\sklearn\\linear_model\\_logistic.py:1589\u001b[0m, in \u001b[0;36mLogisticRegression.fit\u001b[1;34m(self, X, y, sample_weight)\u001b[0m\n\u001b[0;32m   1587\u001b[0m \u001b[38;5;28;01melse\u001b[39;00m:\n\u001b[0;32m   1588\u001b[0m     prefer \u001b[38;5;241m=\u001b[39m \u001b[38;5;124m\"\u001b[39m\u001b[38;5;124mprocesses\u001b[39m\u001b[38;5;124m\"\u001b[39m\n\u001b[1;32m-> 1589\u001b[0m fold_coefs_ \u001b[38;5;241m=\u001b[39m \u001b[43mParallel\u001b[49m\u001b[43m(\u001b[49m\n\u001b[0;32m   1590\u001b[0m \u001b[43m    \u001b[49m\u001b[43mn_jobs\u001b[49m\u001b[38;5;241;43m=\u001b[39;49m\u001b[38;5;28;43mself\u001b[39;49m\u001b[38;5;241;43m.\u001b[39;49m\u001b[43mn_jobs\u001b[49m\u001b[43m,\u001b[49m\n\u001b[0;32m   1591\u001b[0m \u001b[43m    \u001b[49m\u001b[43mverbose\u001b[49m\u001b[38;5;241;43m=\u001b[39;49m\u001b[38;5;28;43mself\u001b[39;49m\u001b[38;5;241;43m.\u001b[39;49m\u001b[43mverbose\u001b[49m\u001b[43m,\u001b[49m\n\u001b[0;32m   1592\u001b[0m \u001b[43m    \u001b[49m\u001b[38;5;241;43m*\u001b[39;49m\u001b[38;5;241;43m*\u001b[39;49m\u001b[43m_joblib_parallel_args\u001b[49m\u001b[43m(\u001b[49m\u001b[43mprefer\u001b[49m\u001b[38;5;241;43m=\u001b[39;49m\u001b[43mprefer\u001b[49m\u001b[43m)\u001b[49m\u001b[43m,\u001b[49m\n\u001b[0;32m   1593\u001b[0m \u001b[43m\u001b[49m\u001b[43m)\u001b[49m\u001b[43m(\u001b[49m\n\u001b[0;32m   1594\u001b[0m \u001b[43m    \u001b[49m\u001b[43mpath_func\u001b[49m\u001b[43m(\u001b[49m\n\u001b[0;32m   1595\u001b[0m \u001b[43m        \u001b[49m\u001b[43mX\u001b[49m\u001b[43m,\u001b[49m\n\u001b[0;32m   1596\u001b[0m \u001b[43m        \u001b[49m\u001b[43my\u001b[49m\u001b[43m,\u001b[49m\n\u001b[0;32m   1597\u001b[0m \u001b[43m        \u001b[49m\u001b[43mpos_class\u001b[49m\u001b[38;5;241;43m=\u001b[39;49m\u001b[43mclass_\u001b[49m\u001b[43m,\u001b[49m\n\u001b[0;32m   1598\u001b[0m \u001b[43m        \u001b[49m\u001b[43mCs\u001b[49m\u001b[38;5;241;43m=\u001b[39;49m\u001b[43m[\u001b[49m\u001b[43mC_\u001b[49m\u001b[43m]\u001b[49m\u001b[43m,\u001b[49m\n\u001b[0;32m   1599\u001b[0m \u001b[43m        \u001b[49m\u001b[43ml1_ratio\u001b[49m\u001b[38;5;241;43m=\u001b[39;49m\u001b[38;5;28;43mself\u001b[39;49m\u001b[38;5;241;43m.\u001b[39;49m\u001b[43ml1_ratio\u001b[49m\u001b[43m,\u001b[49m\n\u001b[0;32m   1600\u001b[0m \u001b[43m        \u001b[49m\u001b[43mfit_intercept\u001b[49m\u001b[38;5;241;43m=\u001b[39;49m\u001b[38;5;28;43mself\u001b[39;49m\u001b[38;5;241;43m.\u001b[39;49m\u001b[43mfit_intercept\u001b[49m\u001b[43m,\u001b[49m\n\u001b[0;32m   1601\u001b[0m \u001b[43m        \u001b[49m\u001b[43mtol\u001b[49m\u001b[38;5;241;43m=\u001b[39;49m\u001b[38;5;28;43mself\u001b[39;49m\u001b[38;5;241;43m.\u001b[39;49m\u001b[43mtol\u001b[49m\u001b[43m,\u001b[49m\n\u001b[0;32m   1602\u001b[0m \u001b[43m        \u001b[49m\u001b[43mverbose\u001b[49m\u001b[38;5;241;43m=\u001b[39;49m\u001b[38;5;28;43mself\u001b[39;49m\u001b[38;5;241;43m.\u001b[39;49m\u001b[43mverbose\u001b[49m\u001b[43m,\u001b[49m\n\u001b[0;32m   1603\u001b[0m \u001b[43m        \u001b[49m\u001b[43msolver\u001b[49m\u001b[38;5;241;43m=\u001b[39;49m\u001b[43msolver\u001b[49m\u001b[43m,\u001b[49m\n\u001b[0;32m   1604\u001b[0m \u001b[43m        \u001b[49m\u001b[43mmulti_class\u001b[49m\u001b[38;5;241;43m=\u001b[39;49m\u001b[43mmulti_class\u001b[49m\u001b[43m,\u001b[49m\n\u001b[0;32m   1605\u001b[0m \u001b[43m        \u001b[49m\u001b[43mmax_iter\u001b[49m\u001b[38;5;241;43m=\u001b[39;49m\u001b[38;5;28;43mself\u001b[39;49m\u001b[38;5;241;43m.\u001b[39;49m\u001b[43mmax_iter\u001b[49m\u001b[43m,\u001b[49m\n\u001b[0;32m   1606\u001b[0m \u001b[43m        \u001b[49m\u001b[43mclass_weight\u001b[49m\u001b[38;5;241;43m=\u001b[39;49m\u001b[38;5;28;43mself\u001b[39;49m\u001b[38;5;241;43m.\u001b[39;49m\u001b[43mclass_weight\u001b[49m\u001b[43m,\u001b[49m\n\u001b[0;32m   1607\u001b[0m \u001b[43m        \u001b[49m\u001b[43mcheck_input\u001b[49m\u001b[38;5;241;43m=\u001b[39;49m\u001b[38;5;28;43;01mFalse\u001b[39;49;00m\u001b[43m,\u001b[49m\n\u001b[0;32m   1608\u001b[0m \u001b[43m        \u001b[49m\u001b[43mrandom_state\u001b[49m\u001b[38;5;241;43m=\u001b[39;49m\u001b[38;5;28;43mself\u001b[39;49m\u001b[38;5;241;43m.\u001b[39;49m\u001b[43mrandom_state\u001b[49m\u001b[43m,\u001b[49m\n\u001b[0;32m   1609\u001b[0m \u001b[43m        \u001b[49m\u001b[43mcoef\u001b[49m\u001b[38;5;241;43m=\u001b[39;49m\u001b[43mwarm_start_coef_\u001b[49m\u001b[43m,\u001b[49m\n\u001b[0;32m   1610\u001b[0m \u001b[43m        \u001b[49m\u001b[43mpenalty\u001b[49m\u001b[38;5;241;43m=\u001b[39;49m\u001b[43mpenalty\u001b[49m\u001b[43m,\u001b[49m\n\u001b[0;32m   1611\u001b[0m \u001b[43m        \u001b[49m\u001b[43mmax_squared_sum\u001b[49m\u001b[38;5;241;43m=\u001b[39;49m\u001b[43mmax_squared_sum\u001b[49m\u001b[43m,\u001b[49m\n\u001b[0;32m   1612\u001b[0m \u001b[43m        \u001b[49m\u001b[43msample_weight\u001b[49m\u001b[38;5;241;43m=\u001b[39;49m\u001b[43msample_weight\u001b[49m\u001b[43m,\u001b[49m\n\u001b[0;32m   1613\u001b[0m \u001b[43m    \u001b[49m\u001b[43m)\u001b[49m\n\u001b[0;32m   1614\u001b[0m \u001b[43m    \u001b[49m\u001b[38;5;28;43;01mfor\u001b[39;49;00m\u001b[43m \u001b[49m\u001b[43mclass_\u001b[49m\u001b[43m,\u001b[49m\u001b[43m \u001b[49m\u001b[43mwarm_start_coef_\u001b[49m\u001b[43m \u001b[49m\u001b[38;5;129;43;01min\u001b[39;49;00m\u001b[43m \u001b[49m\u001b[38;5;28;43mzip\u001b[39;49m\u001b[43m(\u001b[49m\u001b[43mclasses_\u001b[49m\u001b[43m,\u001b[49m\u001b[43m \u001b[49m\u001b[43mwarm_start_coef\u001b[49m\u001b[43m)\u001b[49m\n\u001b[0;32m   1615\u001b[0m \u001b[43m\u001b[49m\u001b[43m)\u001b[49m\n\u001b[0;32m   1617\u001b[0m fold_coefs_, _, n_iter_ \u001b[38;5;241m=\u001b[39m \u001b[38;5;28mzip\u001b[39m(\u001b[38;5;241m*\u001b[39mfold_coefs_)\n\u001b[0;32m   1618\u001b[0m \u001b[38;5;28mself\u001b[39m\u001b[38;5;241m.\u001b[39mn_iter_ \u001b[38;5;241m=\u001b[39m np\u001b[38;5;241m.\u001b[39masarray(n_iter_, dtype\u001b[38;5;241m=\u001b[39mnp\u001b[38;5;241m.\u001b[39mint32)[:, \u001b[38;5;241m0\u001b[39m]\n",
      "File \u001b[1;32m~\\Documents\\Particular\\TCC\\tccenv\\lib\\site-packages\\joblib\\parallel.py:1043\u001b[0m, in \u001b[0;36mParallel.__call__\u001b[1;34m(self, iterable)\u001b[0m\n\u001b[0;32m   1034\u001b[0m \u001b[38;5;28;01mtry\u001b[39;00m:\n\u001b[0;32m   1035\u001b[0m     \u001b[38;5;66;03m# Only set self._iterating to True if at least a batch\u001b[39;00m\n\u001b[0;32m   1036\u001b[0m     \u001b[38;5;66;03m# was dispatched. In particular this covers the edge\u001b[39;00m\n\u001b[1;32m   (...)\u001b[0m\n\u001b[0;32m   1040\u001b[0m     \u001b[38;5;66;03m# was very quick and its callback already dispatched all the\u001b[39;00m\n\u001b[0;32m   1041\u001b[0m     \u001b[38;5;66;03m# remaining jobs.\u001b[39;00m\n\u001b[0;32m   1042\u001b[0m     \u001b[38;5;28mself\u001b[39m\u001b[38;5;241m.\u001b[39m_iterating \u001b[38;5;241m=\u001b[39m \u001b[38;5;28;01mFalse\u001b[39;00m\n\u001b[1;32m-> 1043\u001b[0m     \u001b[38;5;28;01mif\u001b[39;00m \u001b[38;5;28;43mself\u001b[39;49m\u001b[38;5;241;43m.\u001b[39;49m\u001b[43mdispatch_one_batch\u001b[49m\u001b[43m(\u001b[49m\u001b[43miterator\u001b[49m\u001b[43m)\u001b[49m:\n\u001b[0;32m   1044\u001b[0m         \u001b[38;5;28mself\u001b[39m\u001b[38;5;241m.\u001b[39m_iterating \u001b[38;5;241m=\u001b[39m \u001b[38;5;28mself\u001b[39m\u001b[38;5;241m.\u001b[39m_original_iterator \u001b[38;5;129;01mis\u001b[39;00m \u001b[38;5;129;01mnot\u001b[39;00m \u001b[38;5;28;01mNone\u001b[39;00m\n\u001b[0;32m   1046\u001b[0m     \u001b[38;5;28;01mwhile\u001b[39;00m \u001b[38;5;28mself\u001b[39m\u001b[38;5;241m.\u001b[39mdispatch_one_batch(iterator):\n",
      "File \u001b[1;32m~\\Documents\\Particular\\TCC\\tccenv\\lib\\site-packages\\joblib\\parallel.py:861\u001b[0m, in \u001b[0;36mParallel.dispatch_one_batch\u001b[1;34m(self, iterator)\u001b[0m\n\u001b[0;32m    859\u001b[0m     \u001b[38;5;28;01mreturn\u001b[39;00m \u001b[38;5;28;01mFalse\u001b[39;00m\n\u001b[0;32m    860\u001b[0m \u001b[38;5;28;01melse\u001b[39;00m:\n\u001b[1;32m--> 861\u001b[0m     \u001b[38;5;28;43mself\u001b[39;49m\u001b[38;5;241;43m.\u001b[39;49m\u001b[43m_dispatch\u001b[49m\u001b[43m(\u001b[49m\u001b[43mtasks\u001b[49m\u001b[43m)\u001b[49m\n\u001b[0;32m    862\u001b[0m     \u001b[38;5;28;01mreturn\u001b[39;00m \u001b[38;5;28;01mTrue\u001b[39;00m\n",
      "File \u001b[1;32m~\\Documents\\Particular\\TCC\\tccenv\\lib\\site-packages\\joblib\\parallel.py:779\u001b[0m, in \u001b[0;36mParallel._dispatch\u001b[1;34m(self, batch)\u001b[0m\n\u001b[0;32m    777\u001b[0m \u001b[38;5;28;01mwith\u001b[39;00m \u001b[38;5;28mself\u001b[39m\u001b[38;5;241m.\u001b[39m_lock:\n\u001b[0;32m    778\u001b[0m     job_idx \u001b[38;5;241m=\u001b[39m \u001b[38;5;28mlen\u001b[39m(\u001b[38;5;28mself\u001b[39m\u001b[38;5;241m.\u001b[39m_jobs)\n\u001b[1;32m--> 779\u001b[0m     job \u001b[38;5;241m=\u001b[39m \u001b[38;5;28;43mself\u001b[39;49m\u001b[38;5;241;43m.\u001b[39;49m\u001b[43m_backend\u001b[49m\u001b[38;5;241;43m.\u001b[39;49m\u001b[43mapply_async\u001b[49m\u001b[43m(\u001b[49m\u001b[43mbatch\u001b[49m\u001b[43m,\u001b[49m\u001b[43m \u001b[49m\u001b[43mcallback\u001b[49m\u001b[38;5;241;43m=\u001b[39;49m\u001b[43mcb\u001b[49m\u001b[43m)\u001b[49m\n\u001b[0;32m    780\u001b[0m     \u001b[38;5;66;03m# A job can complete so quickly than its callback is\u001b[39;00m\n\u001b[0;32m    781\u001b[0m     \u001b[38;5;66;03m# called before we get here, causing self._jobs to\u001b[39;00m\n\u001b[0;32m    782\u001b[0m     \u001b[38;5;66;03m# grow. To ensure correct results ordering, .insert is\u001b[39;00m\n\u001b[0;32m    783\u001b[0m     \u001b[38;5;66;03m# used (rather than .append) in the following line\u001b[39;00m\n\u001b[0;32m    784\u001b[0m     \u001b[38;5;28mself\u001b[39m\u001b[38;5;241m.\u001b[39m_jobs\u001b[38;5;241m.\u001b[39minsert(job_idx, job)\n",
      "File \u001b[1;32m~\\Documents\\Particular\\TCC\\tccenv\\lib\\site-packages\\joblib\\_parallel_backends.py:208\u001b[0m, in \u001b[0;36mSequentialBackend.apply_async\u001b[1;34m(self, func, callback)\u001b[0m\n\u001b[0;32m    206\u001b[0m \u001b[38;5;28;01mdef\u001b[39;00m \u001b[38;5;21mapply_async\u001b[39m(\u001b[38;5;28mself\u001b[39m, func, callback\u001b[38;5;241m=\u001b[39m\u001b[38;5;28;01mNone\u001b[39;00m):\n\u001b[0;32m    207\u001b[0m     \u001b[38;5;124;03m\"\"\"Schedule a func to be run\"\"\"\u001b[39;00m\n\u001b[1;32m--> 208\u001b[0m     result \u001b[38;5;241m=\u001b[39m \u001b[43mImmediateResult\u001b[49m\u001b[43m(\u001b[49m\u001b[43mfunc\u001b[49m\u001b[43m)\u001b[49m\n\u001b[0;32m    209\u001b[0m     \u001b[38;5;28;01mif\u001b[39;00m callback:\n\u001b[0;32m    210\u001b[0m         callback(result)\n",
      "File \u001b[1;32m~\\Documents\\Particular\\TCC\\tccenv\\lib\\site-packages\\joblib\\_parallel_backends.py:572\u001b[0m, in \u001b[0;36mImmediateResult.__init__\u001b[1;34m(self, batch)\u001b[0m\n\u001b[0;32m    569\u001b[0m \u001b[38;5;28;01mdef\u001b[39;00m \u001b[38;5;21m__init__\u001b[39m(\u001b[38;5;28mself\u001b[39m, batch):\n\u001b[0;32m    570\u001b[0m     \u001b[38;5;66;03m# Don't delay the application, to avoid keeping the input\u001b[39;00m\n\u001b[0;32m    571\u001b[0m     \u001b[38;5;66;03m# arguments in memory\u001b[39;00m\n\u001b[1;32m--> 572\u001b[0m     \u001b[38;5;28mself\u001b[39m\u001b[38;5;241m.\u001b[39mresults \u001b[38;5;241m=\u001b[39m \u001b[43mbatch\u001b[49m\u001b[43m(\u001b[49m\u001b[43m)\u001b[49m\n",
      "File \u001b[1;32m~\\Documents\\Particular\\TCC\\tccenv\\lib\\site-packages\\joblib\\parallel.py:262\u001b[0m, in \u001b[0;36mBatchedCalls.__call__\u001b[1;34m(self)\u001b[0m\n\u001b[0;32m    258\u001b[0m \u001b[38;5;28;01mdef\u001b[39;00m \u001b[38;5;21m__call__\u001b[39m(\u001b[38;5;28mself\u001b[39m):\n\u001b[0;32m    259\u001b[0m     \u001b[38;5;66;03m# Set the default nested backend to self._backend but do not set the\u001b[39;00m\n\u001b[0;32m    260\u001b[0m     \u001b[38;5;66;03m# change the default number of processes to -1\u001b[39;00m\n\u001b[0;32m    261\u001b[0m     \u001b[38;5;28;01mwith\u001b[39;00m parallel_backend(\u001b[38;5;28mself\u001b[39m\u001b[38;5;241m.\u001b[39m_backend, n_jobs\u001b[38;5;241m=\u001b[39m\u001b[38;5;28mself\u001b[39m\u001b[38;5;241m.\u001b[39m_n_jobs):\n\u001b[1;32m--> 262\u001b[0m         \u001b[38;5;28;01mreturn\u001b[39;00m [func(\u001b[38;5;241m*\u001b[39margs, \u001b[38;5;241m*\u001b[39m\u001b[38;5;241m*\u001b[39mkwargs)\n\u001b[0;32m    263\u001b[0m                 \u001b[38;5;28;01mfor\u001b[39;00m func, args, kwargs \u001b[38;5;129;01min\u001b[39;00m \u001b[38;5;28mself\u001b[39m\u001b[38;5;241m.\u001b[39mitems]\n",
      "File \u001b[1;32m~\\Documents\\Particular\\TCC\\tccenv\\lib\\site-packages\\joblib\\parallel.py:262\u001b[0m, in \u001b[0;36m<listcomp>\u001b[1;34m(.0)\u001b[0m\n\u001b[0;32m    258\u001b[0m \u001b[38;5;28;01mdef\u001b[39;00m \u001b[38;5;21m__call__\u001b[39m(\u001b[38;5;28mself\u001b[39m):\n\u001b[0;32m    259\u001b[0m     \u001b[38;5;66;03m# Set the default nested backend to self._backend but do not set the\u001b[39;00m\n\u001b[0;32m    260\u001b[0m     \u001b[38;5;66;03m# change the default number of processes to -1\u001b[39;00m\n\u001b[0;32m    261\u001b[0m     \u001b[38;5;28;01mwith\u001b[39;00m parallel_backend(\u001b[38;5;28mself\u001b[39m\u001b[38;5;241m.\u001b[39m_backend, n_jobs\u001b[38;5;241m=\u001b[39m\u001b[38;5;28mself\u001b[39m\u001b[38;5;241m.\u001b[39m_n_jobs):\n\u001b[1;32m--> 262\u001b[0m         \u001b[38;5;28;01mreturn\u001b[39;00m [func(\u001b[38;5;241m*\u001b[39margs, \u001b[38;5;241m*\u001b[39m\u001b[38;5;241m*\u001b[39mkwargs)\n\u001b[0;32m    263\u001b[0m                 \u001b[38;5;28;01mfor\u001b[39;00m func, args, kwargs \u001b[38;5;129;01min\u001b[39;00m \u001b[38;5;28mself\u001b[39m\u001b[38;5;241m.\u001b[39mitems]\n",
      "File \u001b[1;32m~\\Documents\\Particular\\TCC\\tccenv\\lib\\site-packages\\sklearn\\utils\\fixes.py:216\u001b[0m, in \u001b[0;36m_FuncWrapper.__call__\u001b[1;34m(self, *args, **kwargs)\u001b[0m\n\u001b[0;32m    214\u001b[0m \u001b[38;5;28;01mdef\u001b[39;00m \u001b[38;5;21m__call__\u001b[39m(\u001b[38;5;28mself\u001b[39m, \u001b[38;5;241m*\u001b[39margs, \u001b[38;5;241m*\u001b[39m\u001b[38;5;241m*\u001b[39mkwargs):\n\u001b[0;32m    215\u001b[0m     \u001b[38;5;28;01mwith\u001b[39;00m config_context(\u001b[38;5;241m*\u001b[39m\u001b[38;5;241m*\u001b[39m\u001b[38;5;28mself\u001b[39m\u001b[38;5;241m.\u001b[39mconfig):\n\u001b[1;32m--> 216\u001b[0m         \u001b[38;5;28;01mreturn\u001b[39;00m \u001b[38;5;28mself\u001b[39m\u001b[38;5;241m.\u001b[39mfunction(\u001b[38;5;241m*\u001b[39margs, \u001b[38;5;241m*\u001b[39m\u001b[38;5;241m*\u001b[39mkwargs)\n",
      "File \u001b[1;32m~\\Documents\\Particular\\TCC\\tccenv\\lib\\site-packages\\sklearn\\linear_model\\_logistic.py:823\u001b[0m, in \u001b[0;36m_logistic_regression_path\u001b[1;34m(X, y, pos_class, Cs, fit_intercept, max_iter, tol, verbose, solver, coef, class_weight, dual, penalty, intercept_scaling, multi_class, random_state, check_input, max_squared_sum, sample_weight, l1_ratio)\u001b[0m\n\u001b[0;32m    821\u001b[0m \u001b[38;5;28;01melif\u001b[39;00m solver \u001b[38;5;241m==\u001b[39m \u001b[38;5;124m\"\u001b[39m\u001b[38;5;124mnewton-cg\u001b[39m\u001b[38;5;124m\"\u001b[39m:\n\u001b[0;32m    822\u001b[0m     args \u001b[38;5;241m=\u001b[39m (X, target, \u001b[38;5;241m1.0\u001b[39m \u001b[38;5;241m/\u001b[39m C, sample_weight)\n\u001b[1;32m--> 823\u001b[0m     w0, n_iter_i \u001b[38;5;241m=\u001b[39m \u001b[43m_newton_cg\u001b[49m\u001b[43m(\u001b[49m\n\u001b[0;32m    824\u001b[0m \u001b[43m        \u001b[49m\u001b[43mhess\u001b[49m\u001b[43m,\u001b[49m\u001b[43m \u001b[49m\u001b[43mfunc\u001b[49m\u001b[43m,\u001b[49m\u001b[43m \u001b[49m\u001b[43mgrad\u001b[49m\u001b[43m,\u001b[49m\u001b[43m \u001b[49m\u001b[43mw0\u001b[49m\u001b[43m,\u001b[49m\u001b[43m \u001b[49m\u001b[43margs\u001b[49m\u001b[38;5;241;43m=\u001b[39;49m\u001b[43margs\u001b[49m\u001b[43m,\u001b[49m\u001b[43m \u001b[49m\u001b[43mmaxiter\u001b[49m\u001b[38;5;241;43m=\u001b[39;49m\u001b[43mmax_iter\u001b[49m\u001b[43m,\u001b[49m\u001b[43m \u001b[49m\u001b[43mtol\u001b[49m\u001b[38;5;241;43m=\u001b[39;49m\u001b[43mtol\u001b[49m\n\u001b[0;32m    825\u001b[0m \u001b[43m    \u001b[49m\u001b[43m)\u001b[49m\n\u001b[0;32m    826\u001b[0m \u001b[38;5;28;01melif\u001b[39;00m solver \u001b[38;5;241m==\u001b[39m \u001b[38;5;124m\"\u001b[39m\u001b[38;5;124mliblinear\u001b[39m\u001b[38;5;124m\"\u001b[39m:\n\u001b[0;32m    827\u001b[0m     coef_, intercept_, n_iter_i, \u001b[38;5;241m=\u001b[39m _fit_liblinear(\n\u001b[0;32m    828\u001b[0m         X,\n\u001b[0;32m    829\u001b[0m         target,\n\u001b[1;32m   (...)\u001b[0m\n\u001b[0;32m    840\u001b[0m         sample_weight\u001b[38;5;241m=\u001b[39msample_weight,\n\u001b[0;32m    841\u001b[0m     )\n",
      "File \u001b[1;32m~\\Documents\\Particular\\TCC\\tccenv\\lib\\site-packages\\sklearn\\utils\\optimize.py:193\u001b[0m, in \u001b[0;36m_newton_cg\u001b[1;34m(grad_hess, func, grad, x0, args, tol, maxiter, maxinner, line_search, warn)\u001b[0m\n\u001b[0;32m    189\u001b[0m termcond \u001b[38;5;241m=\u001b[39m eta \u001b[38;5;241m*\u001b[39m maggrad\n\u001b[0;32m    191\u001b[0m \u001b[38;5;66;03m# Inner loop: solve the Newton update by conjugate gradient, to\u001b[39;00m\n\u001b[0;32m    192\u001b[0m \u001b[38;5;66;03m# avoid inverting the Hessian\u001b[39;00m\n\u001b[1;32m--> 193\u001b[0m xsupi \u001b[38;5;241m=\u001b[39m \u001b[43m_cg\u001b[49m\u001b[43m(\u001b[49m\u001b[43mfhess_p\u001b[49m\u001b[43m,\u001b[49m\u001b[43m \u001b[49m\u001b[43mfgrad\u001b[49m\u001b[43m,\u001b[49m\u001b[43m \u001b[49m\u001b[43mmaxiter\u001b[49m\u001b[38;5;241;43m=\u001b[39;49m\u001b[43mmaxinner\u001b[49m\u001b[43m,\u001b[49m\u001b[43m \u001b[49m\u001b[43mtol\u001b[49m\u001b[38;5;241;43m=\u001b[39;49m\u001b[43mtermcond\u001b[49m\u001b[43m)\u001b[49m\n\u001b[0;32m    195\u001b[0m alphak \u001b[38;5;241m=\u001b[39m \u001b[38;5;241m1.0\u001b[39m\n\u001b[0;32m    197\u001b[0m \u001b[38;5;28;01mif\u001b[39;00m line_search:\n",
      "File \u001b[1;32m~\\Documents\\Particular\\TCC\\tccenv\\lib\\site-packages\\sklearn\\utils\\optimize.py:88\u001b[0m, in \u001b[0;36m_cg\u001b[1;34m(fhess_p, fgrad, maxiter, tol)\u001b[0m\n\u001b[0;32m     85\u001b[0m \u001b[38;5;28;01mif\u001b[39;00m np\u001b[38;5;241m.\u001b[39msum(np\u001b[38;5;241m.\u001b[39mabs(ri)) \u001b[38;5;241m<\u001b[39m\u001b[38;5;241m=\u001b[39m tol:\n\u001b[0;32m     86\u001b[0m     \u001b[38;5;28;01mbreak\u001b[39;00m\n\u001b[1;32m---> 88\u001b[0m Ap \u001b[38;5;241m=\u001b[39m \u001b[43mfhess_p\u001b[49m\u001b[43m(\u001b[49m\u001b[43mpsupi\u001b[49m\u001b[43m)\u001b[49m\n\u001b[0;32m     89\u001b[0m \u001b[38;5;66;03m# check curvature\u001b[39;00m\n\u001b[0;32m     90\u001b[0m curv \u001b[38;5;241m=\u001b[39m np\u001b[38;5;241m.\u001b[39mdot(psupi, Ap)\n",
      "File \u001b[1;32m~\\Documents\\Particular\\TCC\\tccenv\\lib\\site-packages\\sklearn\\linear_model\\_logistic.py:235\u001b[0m, in \u001b[0;36m_logistic_grad_hess.<locals>.Hs\u001b[1;34m(s)\u001b[0m\n\u001b[0;32m    233\u001b[0m ret \u001b[38;5;241m=\u001b[39m np\u001b[38;5;241m.\u001b[39mempty_like(s)\n\u001b[0;32m    234\u001b[0m \u001b[38;5;28;01mif\u001b[39;00m sparse\u001b[38;5;241m.\u001b[39missparse(X):\n\u001b[1;32m--> 235\u001b[0m     ret[:n_features] \u001b[38;5;241m=\u001b[39m \u001b[43mX\u001b[49m\u001b[38;5;241;43m.\u001b[39;49m\u001b[43mT\u001b[49m\u001b[38;5;241;43m.\u001b[39;49m\u001b[43mdot\u001b[49m\u001b[43m(\u001b[49m\u001b[43mdX\u001b[49m\u001b[38;5;241;43m.\u001b[39;49m\u001b[43mdot\u001b[49m\u001b[43m(\u001b[49m\u001b[43ms\u001b[49m\u001b[43m[\u001b[49m\u001b[43m:\u001b[49m\u001b[43mn_features\u001b[49m\u001b[43m]\u001b[49m\u001b[43m)\u001b[49m\u001b[43m)\u001b[49m\n\u001b[0;32m    236\u001b[0m \u001b[38;5;28;01melse\u001b[39;00m:\n\u001b[0;32m    237\u001b[0m     ret[:n_features] \u001b[38;5;241m=\u001b[39m np\u001b[38;5;241m.\u001b[39mlinalg\u001b[38;5;241m.\u001b[39mmulti_dot([X\u001b[38;5;241m.\u001b[39mT, dX, s[:n_features]])\n",
      "File \u001b[1;32m~\\Documents\\Particular\\TCC\\tccenv\\lib\\site-packages\\scipy\\sparse\\_base.py:413\u001b[0m, in \u001b[0;36mspmatrix.dot\u001b[1;34m(self, other)\u001b[0m\n\u001b[0;32m    400\u001b[0m \u001b[38;5;28;01mdef\u001b[39;00m \u001b[38;5;21mdot\u001b[39m(\u001b[38;5;28mself\u001b[39m, other):\n\u001b[0;32m    401\u001b[0m     \u001b[38;5;124;03m\"\"\"Ordinary dot product\u001b[39;00m\n\u001b[0;32m    402\u001b[0m \n\u001b[0;32m    403\u001b[0m \u001b[38;5;124;03m    Examples\u001b[39;00m\n\u001b[1;32m   (...)\u001b[0m\n\u001b[0;32m    411\u001b[0m \n\u001b[0;32m    412\u001b[0m \u001b[38;5;124;03m    \"\"\"\u001b[39;00m\n\u001b[1;32m--> 413\u001b[0m     \u001b[38;5;28;01mreturn\u001b[39;00m \u001b[38;5;28;43mself\u001b[39;49m\u001b[43m \u001b[49m\u001b[38;5;241;43m@\u001b[39;49m\u001b[43m \u001b[49m\u001b[43mother\u001b[49m\n",
      "File \u001b[1;32m~\\Documents\\Particular\\TCC\\tccenv\\lib\\site-packages\\scipy\\sparse\\_base.py:620\u001b[0m, in \u001b[0;36mspmatrix.__matmul__\u001b[1;34m(self, other)\u001b[0m\n\u001b[0;32m    617\u001b[0m \u001b[38;5;28;01mif\u001b[39;00m isscalarlike(other):\n\u001b[0;32m    618\u001b[0m     \u001b[38;5;28;01mraise\u001b[39;00m \u001b[38;5;167;01mValueError\u001b[39;00m(\u001b[38;5;124m\"\u001b[39m\u001b[38;5;124mScalar operands are not allowed, \u001b[39m\u001b[38;5;124m\"\u001b[39m\n\u001b[0;32m    619\u001b[0m                      \u001b[38;5;124m\"\u001b[39m\u001b[38;5;124muse \u001b[39m\u001b[38;5;124m'\u001b[39m\u001b[38;5;124m*\u001b[39m\u001b[38;5;124m'\u001b[39m\u001b[38;5;124m instead\u001b[39m\u001b[38;5;124m\"\u001b[39m)\n\u001b[1;32m--> 620\u001b[0m \u001b[38;5;28;01mreturn\u001b[39;00m \u001b[38;5;28;43mself\u001b[39;49m\u001b[38;5;241;43m.\u001b[39;49m\u001b[43m_mul_dispatch\u001b[49m\u001b[43m(\u001b[49m\u001b[43mother\u001b[49m\u001b[43m)\u001b[49m\n",
      "File \u001b[1;32m~\\Documents\\Particular\\TCC\\tccenv\\lib\\site-packages\\scipy\\sparse\\_base.py:521\u001b[0m, in \u001b[0;36mspmatrix._mul_dispatch\u001b[1;34m(self, other)\u001b[0m\n\u001b[0;32m    518\u001b[0m \u001b[38;5;28;01mif\u001b[39;00m other\u001b[38;5;241m.\u001b[39m\u001b[38;5;18m__class__\u001b[39m \u001b[38;5;129;01mis\u001b[39;00m np\u001b[38;5;241m.\u001b[39mndarray:\n\u001b[0;32m    519\u001b[0m     \u001b[38;5;66;03m# Fast path for the most common case\u001b[39;00m\n\u001b[0;32m    520\u001b[0m     \u001b[38;5;28;01mif\u001b[39;00m other\u001b[38;5;241m.\u001b[39mshape \u001b[38;5;241m==\u001b[39m (N,):\n\u001b[1;32m--> 521\u001b[0m         \u001b[38;5;28;01mreturn\u001b[39;00m \u001b[38;5;28;43mself\u001b[39;49m\u001b[38;5;241;43m.\u001b[39;49m\u001b[43m_mul_vector\u001b[49m\u001b[43m(\u001b[49m\u001b[43mother\u001b[49m\u001b[43m)\u001b[49m\n\u001b[0;32m    522\u001b[0m     \u001b[38;5;28;01melif\u001b[39;00m other\u001b[38;5;241m.\u001b[39mshape \u001b[38;5;241m==\u001b[39m (N, \u001b[38;5;241m1\u001b[39m):\n\u001b[0;32m    523\u001b[0m         \u001b[38;5;28;01mreturn\u001b[39;00m \u001b[38;5;28mself\u001b[39m\u001b[38;5;241m.\u001b[39m_mul_vector(other\u001b[38;5;241m.\u001b[39mravel())\u001b[38;5;241m.\u001b[39mreshape(M, \u001b[38;5;241m1\u001b[39m)\n",
      "File \u001b[1;32m~\\Documents\\Particular\\TCC\\tccenv\\lib\\site-packages\\scipy\\sparse\\_compressed.py:489\u001b[0m, in \u001b[0;36m_cs_matrix._mul_vector\u001b[1;34m(self, other)\u001b[0m\n\u001b[0;32m    487\u001b[0m \u001b[38;5;66;03m# csr_matvec or csc_matvec\u001b[39;00m\n\u001b[0;32m    488\u001b[0m fn \u001b[38;5;241m=\u001b[39m \u001b[38;5;28mgetattr\u001b[39m(_sparsetools, \u001b[38;5;28mself\u001b[39m\u001b[38;5;241m.\u001b[39mformat \u001b[38;5;241m+\u001b[39m \u001b[38;5;124m'\u001b[39m\u001b[38;5;124m_matvec\u001b[39m\u001b[38;5;124m'\u001b[39m)\n\u001b[1;32m--> 489\u001b[0m \u001b[43mfn\u001b[49m\u001b[43m(\u001b[49m\u001b[43mM\u001b[49m\u001b[43m,\u001b[49m\u001b[43m \u001b[49m\u001b[43mN\u001b[49m\u001b[43m,\u001b[49m\u001b[43m \u001b[49m\u001b[38;5;28;43mself\u001b[39;49m\u001b[38;5;241;43m.\u001b[39;49m\u001b[43mindptr\u001b[49m\u001b[43m,\u001b[49m\u001b[43m \u001b[49m\u001b[38;5;28;43mself\u001b[39;49m\u001b[38;5;241;43m.\u001b[39;49m\u001b[43mindices\u001b[49m\u001b[43m,\u001b[49m\u001b[43m \u001b[49m\u001b[38;5;28;43mself\u001b[39;49m\u001b[38;5;241;43m.\u001b[39;49m\u001b[43mdata\u001b[49m\u001b[43m,\u001b[49m\u001b[43m \u001b[49m\u001b[43mother\u001b[49m\u001b[43m,\u001b[49m\u001b[43m \u001b[49m\u001b[43mresult\u001b[49m\u001b[43m)\u001b[49m\n\u001b[0;32m    491\u001b[0m \u001b[38;5;28;01mreturn\u001b[39;00m result\n",
      "\u001b[1;31mKeyboardInterrupt\u001b[0m: "
     ]
    }
   ],
   "source": [
    "# Regressão Logística\n",
    "from sklearn.linear_model import LogisticRegression\n",
    "\n",
    "class_reglog = Pipeline([('tfidf', TfidfVectorizer()),\n",
    "                    ('class',  LogisticRegression(solver='newton-cg', max_iter=500))])\n",
    "\n",
    "class_reglog.fit(X_train, y_train)\n",
    "y_reglog = class_reglog.predict(X_test)\n",
    "y_proba_reglog = class_reglog.predict_proba(X_test)"
   ]
  },
  {
   "cell_type": "code",
   "execution_count": null,
   "id": "ca5e324a-97ad-40c0-b1b0-a06a94225346",
   "metadata": {
    "colab": {
     "base_uri": "https://localhost:8080/"
    },
    "id": "b84f95bf",
    "outputId": "80d238ac-21ca-4f21-e287-c657882815aa"
   },
   "outputs": [],
   "source": [
    "print(classification_report(y_test, y_reglog))"
   ]
  },
  {
   "cell_type": "code",
   "execution_count": 32,
   "id": "abKFDI-UmMQj",
   "metadata": {
    "colab": {
     "base_uri": "https://localhost:8080/"
    },
    "id": "abKFDI-UmMQj",
    "outputId": "699e5081-f1f8-46ff-ec3c-2a894593be28"
   },
   "outputs": [
    {
     "name": "stdout",
     "output_type": "stream",
     "text": [
      "AUC: 0.893\n"
     ]
    }
   ],
   "source": [
    "auc_reglog = roc_auc_score(y_test, y_proba_reglog[:,1])\n",
    "print('AUC: %.3f' % auc_reglog)"
   ]
  },
  {
   "cell_type": "code",
   "execution_count": 71,
   "id": "okZ2X9d0n9Ca",
   "metadata": {
    "colab": {
     "base_uri": "https://localhost:8080/",
     "height": 312
    },
    "id": "okZ2X9d0n9Ca",
    "outputId": "c09b3eaf-699a-486d-f642-3847e99dd801"
   },
   "outputs": [
    {
     "data": {
      "image/png": "[encoded data removed]",
      "text/plain": [
       "<Figure size 432x288 with 1 Axes>"
      ]
     },
     "metadata": {
      "needs_background": "light"
     },
     "output_type": "display_data"
    },
    {
     "data": {
      "text/plain": [
       "<Figure size 720x576 with 0 Axes>"
      ]
     },
     "metadata": {},
     "output_type": "display_data"
    }
   ],
   "source": [
    "skplt.metrics.plot_roc(y_test, y_proba_reglog)\n",
    "plt.figure(figsize=(10,8))\n",
    "plt.show()"
   ]
  },
  {
   "cell_type": "code",
   "execution_count": 28,
   "id": "78aa3c8d",
   "metadata": {
    "colab": {
     "base_uri": "https://localhost:8080/",
     "height": 175
    },
    "id": "78aa3c8d",
    "outputId": "e0e020f3-fe70-4a07-cc72-73b3a1d25643"
   },
   "outputs": [
    {
     "data": {
      "text/html": [
       "<div>\n",
       "<style scoped>\n",
       "    .dataframe tbody tr th:only-of-type {\n",
       "        vertical-align: middle;\n",
       "    }\n",
       "\n",
       "    .dataframe tbody tr th {\n",
       "        vertical-align: top;\n",
       "    }\n",
       "\n",
       "    .dataframe thead th {\n",
       "        text-align: right;\n",
       "    }\n",
       "</style>\n",
       "<table border=\"1\" class=\"dataframe\">\n",
       "  <thead>\n",
       "    <tr style=\"text-align: right;\">\n",
       "      <th>Predicted</th>\n",
       "      <th>Fresh</th>\n",
       "      <th>Rotten</th>\n",
       "      <th>All</th>\n",
       "    </tr>\n",
       "    <tr>\n",
       "      <th>True</th>\n",
       "      <th></th>\n",
       "      <th></th>\n",
       "      <th></th>\n",
       "    </tr>\n",
       "  </thead>\n",
       "  <tbody>\n",
       "    <tr>\n",
       "      <th>Fresh</th>\n",
       "      <td>182213</td>\n",
       "      <td>22098</td>\n",
       "      <td>204311</td>\n",
       "    </tr>\n",
       "    <tr>\n",
       "      <th>Rotten</th>\n",
       "      <td>35134</td>\n",
       "      <td>79819</td>\n",
       "      <td>114953</td>\n",
       "    </tr>\n",
       "    <tr>\n",
       "      <th>All</th>\n",
       "      <td>217347</td>\n",
       "      <td>101917</td>\n",
       "      <td>319264</td>\n",
       "    </tr>\n",
       "  </tbody>\n",
       "</table>\n",
       "</div>"
      ],
      "text/plain": [
       "Predicted   Fresh  Rotten     All\n",
       "True                             \n",
       "Fresh      182213   22098  204311\n",
       "Rotten      35134   79819  114953\n",
       "All        217347  101917  319264"
      ]
     },
     "execution_count": 28,
     "metadata": {},
     "output_type": "execute_result"
    }
   ],
   "source": [
    "pd.crosstab(y_test, y_reglog, rownames=['True'], colnames=['Predicted'], margins=True)"
   ]
  },
  {
   "cell_type": "code",
   "execution_count": 94,
   "id": "7c1c5c86-f716-4ae2-8db0-b6b9e409d00e",
   "metadata": {},
   "outputs": [],
   "source": [
    "#save file with pickle\n",
    "filename = \"class_reglog.p\"\n",
    "pickle.dump( class_reglog, open( filename, \"wb\" ))"
   ]
  },
  {
   "cell_type": "markdown",
   "id": "7dcf301e-1d76-4b5a-b7b5-7dd0d505c3de",
   "metadata": {
    "jp-MarkdownHeadingCollapsed": true,
    "tags": []
   },
   "source": [
    "### Gradient Boosting"
   ]
  },
  {
   "cell_type": "code",
   "execution_count": 73,
   "id": "574754c9",
   "metadata": {
    "id": "574754c9"
   },
   "outputs": [],
   "source": [
    "# XGBoost\n",
    "from sklearn.ensemble import GradientBoostingClassifier\n",
    "\n",
    "class_xgb = Pipeline([('tfidf', TfidfVectorizer()),\n",
    "                    ('class', GradientBoostingClassifier())])\n",
    "\n",
    "class_xgb.fit(X_train, y_train)\n",
    "y_xgb = class_xgb.predict(X_test)\n",
    "y_proba_xgb = class_xgb.predict_proba(X_test)"
   ]
  },
  {
   "cell_type": "code",
   "execution_count": 74,
   "id": "d5ff4f97",
   "metadata": {
    "id": "d5ff4f97",
    "outputId": "76a9b6bd-6486-4595-820c-1c1171b5d363"
   },
   "outputs": [
    {
     "name": "stdout",
     "output_type": "stream",
     "text": [
      "              precision    recall  f1-score   support\n",
      "\n",
      "       Fresh       0.67      0.98      0.80    204311\n",
      "      Rotten       0.81      0.14      0.24    114953\n",
      "\n",
      "    accuracy                           0.68    319264\n",
      "   macro avg       0.74      0.56      0.52    319264\n",
      "weighted avg       0.72      0.68      0.60    319264\n",
      "\n"
     ]
    }
   ],
   "source": [
    "print(classification_report(y_test, y_xgb))"
   ]
  },
  {
   "cell_type": "code",
   "execution_count": 75,
   "id": "3UsdTDkkY37o",
   "metadata": {
    "colab": {
     "base_uri": "https://localhost:8080/"
    },
    "id": "3UsdTDkkY37o",
    "outputId": "27d20870-f7cc-4d7a-86af-068ad3becc90"
   },
   "outputs": [
    {
     "name": "stdout",
     "output_type": "stream",
     "text": [
      "AUC: 0.724\n"
     ]
    }
   ],
   "source": [
    "auc_xgb = roc_auc_score(y_test, y_proba_xgb[:,1])\n",
    "print('AUC: %.3f' % auc_xgb)"
   ]
  },
  {
   "cell_type": "code",
   "execution_count": 76,
   "id": "NF14DaiCZOWc",
   "metadata": {
    "id": "NF14DaiCZOWc"
   },
   "outputs": [
    {
     "data": {
      "image/png": "[encoded data removed]",
      "text/plain": [
       "<Figure size 432x288 with 1 Axes>"
      ]
     },
     "metadata": {
      "needs_background": "light"
     },
     "output_type": "display_data"
    },
    {
     "data": {
      "text/plain": [
       "<Figure size 720x576 with 0 Axes>"
      ]
     },
     "metadata": {},
     "output_type": "display_data"
    }
   ],
   "source": [
    "skplt.metrics.plot_roc(y_test, y_proba_xgb)\n",
    "plt.figure(figsize=(10,8))\n",
    "plt.show()"
   ]
  },
  {
   "cell_type": "code",
   "execution_count": 77,
   "id": "f3a515f4",
   "metadata": {
    "id": "f3a515f4",
    "outputId": "ce3f2bff-49ab-479f-bd3d-52b11c9e2606"
   },
   "outputs": [
    {
     "data": {
      "text/html": [
       "<div>\n",
       "<style scoped>\n",
       "    .dataframe tbody tr th:only-of-type {\n",
       "        vertical-align: middle;\n",
       "    }\n",
       "\n",
       "    .dataframe tbody tr th {\n",
       "        vertical-align: top;\n",
       "    }\n",
       "\n",
       "    .dataframe thead th {\n",
       "        text-align: right;\n",
       "    }\n",
       "</style>\n",
       "<table border=\"1\" class=\"dataframe\">\n",
       "  <thead>\n",
       "    <tr style=\"text-align: right;\">\n",
       "      <th>Predicted</th>\n",
       "      <th>Fresh</th>\n",
       "      <th>Rotten</th>\n",
       "      <th>All</th>\n",
       "    </tr>\n",
       "    <tr>\n",
       "      <th>True</th>\n",
       "      <th></th>\n",
       "      <th></th>\n",
       "      <th></th>\n",
       "    </tr>\n",
       "  </thead>\n",
       "  <tbody>\n",
       "    <tr>\n",
       "      <th>Fresh</th>\n",
       "      <td>200311</td>\n",
       "      <td>4000</td>\n",
       "      <td>204311</td>\n",
       "    </tr>\n",
       "    <tr>\n",
       "      <th>Rotten</th>\n",
       "      <td>98352</td>\n",
       "      <td>16601</td>\n",
       "      <td>114953</td>\n",
       "    </tr>\n",
       "    <tr>\n",
       "      <th>All</th>\n",
       "      <td>298663</td>\n",
       "      <td>20601</td>\n",
       "      <td>319264</td>\n",
       "    </tr>\n",
       "  </tbody>\n",
       "</table>\n",
       "</div>"
      ],
      "text/plain": [
       "Predicted   Fresh  Rotten     All\n",
       "True                             \n",
       "Fresh      200311    4000  204311\n",
       "Rotten      98352   16601  114953\n",
       "All        298663   20601  319264"
      ]
     },
     "execution_count": 77,
     "metadata": {},
     "output_type": "execute_result"
    }
   ],
   "source": [
    "pd.crosstab(y_test, y_xgb, rownames=['True'], colnames=['Predicted'], margins=True)"
   ]
  },
  {
   "cell_type": "code",
   "execution_count": 95,
   "id": "02f40d5b-a9ac-46a7-b508-2f4bbb62959b",
   "metadata": {},
   "outputs": [],
   "source": [
    "#save file with pickle\n",
    "filename = \"class_xgb.p\"\n",
    "pickle.dump( class_xgb, open( filename, \"wb\" ))"
   ]
  },
  {
   "cell_type": "markdown",
   "id": "2b9dc527-ebd4-40aa-b4d9-081cefd07323",
   "metadata": {
    "jp-MarkdownHeadingCollapsed": true,
    "tags": []
   },
   "source": [
    "### SVC"
   ]
  },
  {
   "cell_type": "code",
   "execution_count": 82,
   "id": "56806872",
   "metadata": {
    "id": "56806872",
    "tags": []
   },
   "outputs": [],
   "source": [
    "# SVC\n",
    "from sklearn.svm import LinearSVC\n",
    "from sklearn.calibration import CalibratedClassifierCV\n",
    "\n",
    "svm = LinearSVC()\n",
    "clf = CalibratedClassifierCV(svm) \n",
    "\n",
    "class_svc = Pipeline([('tfidf', TfidfVectorizer()),\n",
    "                    ('class', clf)])\n",
    "\n",
    "class_svc.fit(X_train, y_train)\n",
    "y_svc = class_svc.predict(X_test)\n",
    "y_proba_svc = class_svc.predict_proba(X_test)"
   ]
  },
  {
   "cell_type": "code",
   "execution_count": 83,
   "id": "7c4cd83d",
   "metadata": {
    "id": "7c4cd83d",
    "outputId": "9f9c3efa-07d7-48d2-9000-32d47238b85d",
    "scrolled": true,
    "tags": []
   },
   "outputs": [
    {
     "name": "stdout",
     "output_type": "stream",
     "text": [
      "              precision    recall  f1-score   support\n",
      "\n",
      "       Fresh       0.84      0.89      0.86    204311\n",
      "      Rotten       0.78      0.70      0.74    114953\n",
      "\n",
      "    accuracy                           0.82    319264\n",
      "   macro avg       0.81      0.79      0.80    319264\n",
      "weighted avg       0.82      0.82      0.82    319264\n",
      "\n"
     ]
    }
   ],
   "source": [
    "print(classification_report(y_test, y_svc))"
   ]
  },
  {
   "cell_type": "code",
   "execution_count": 84,
   "id": "4c80fcb8-1324-4bea-9724-0ac3c73c192e",
   "metadata": {
    "colab": {
     "base_uri": "https://localhost:8080/"
    },
    "id": "3UsdTDkkY37o",
    "outputId": "27d20870-f7cc-4d7a-86af-068ad3becc90"
   },
   "outputs": [
    {
     "name": "stdout",
     "output_type": "stream",
     "text": [
      "AUC: 0.893\n"
     ]
    }
   ],
   "source": [
    "auc_svc = roc_auc_score(y_test, y_proba_svc[:,1])\n",
    "print('AUC: %.3f' % auc_svc)"
   ]
  },
  {
   "cell_type": "code",
   "execution_count": 85,
   "id": "26bdf709-0a5c-4c00-9128-a8502eaff678",
   "metadata": {
    "id": "NF14DaiCZOWc"
   },
   "outputs": [
    {
     "data": {
      "image/png": "[encoded data removed]",
      "text/plain": [
       "<Figure size 432x288 with 1 Axes>"
      ]
     },
     "metadata": {
      "needs_background": "light"
     },
     "output_type": "display_data"
    },
    {
     "data": {
      "text/plain": [
       "<Figure size 720x576 with 0 Axes>"
      ]
     },
     "metadata": {},
     "output_type": "display_data"
    }
   ],
   "source": [
    "skplt.metrics.plot_roc(y_test, y_proba_svc)\n",
    "plt.figure(figsize=(10,8))\n",
    "plt.show()"
   ]
  },
  {
   "cell_type": "code",
   "execution_count": 86,
   "id": "54919eb7",
   "metadata": {
    "id": "54919eb7",
    "outputId": "b352ba96-9e97-402a-a6f5-ecbdc0cca514"
   },
   "outputs": [
    {
     "data": {
      "text/html": [
       "<div>\n",
       "<style scoped>\n",
       "    .dataframe tbody tr th:only-of-type {\n",
       "        vertical-align: middle;\n",
       "    }\n",
       "\n",
       "    .dataframe tbody tr th {\n",
       "        vertical-align: top;\n",
       "    }\n",
       "\n",
       "    .dataframe thead th {\n",
       "        text-align: right;\n",
       "    }\n",
       "</style>\n",
       "<table border=\"1\" class=\"dataframe\">\n",
       "  <thead>\n",
       "    <tr style=\"text-align: right;\">\n",
       "      <th>Predicted</th>\n",
       "      <th>Fresh</th>\n",
       "      <th>Rotten</th>\n",
       "      <th>All</th>\n",
       "    </tr>\n",
       "    <tr>\n",
       "      <th>True</th>\n",
       "      <th></th>\n",
       "      <th></th>\n",
       "      <th></th>\n",
       "    </tr>\n",
       "  </thead>\n",
       "  <tbody>\n",
       "    <tr>\n",
       "      <th>Fresh</th>\n",
       "      <td>181423</td>\n",
       "      <td>22888</td>\n",
       "      <td>204311</td>\n",
       "    </tr>\n",
       "    <tr>\n",
       "      <th>Rotten</th>\n",
       "      <td>34381</td>\n",
       "      <td>80572</td>\n",
       "      <td>114953</td>\n",
       "    </tr>\n",
       "    <tr>\n",
       "      <th>All</th>\n",
       "      <td>215804</td>\n",
       "      <td>103460</td>\n",
       "      <td>319264</td>\n",
       "    </tr>\n",
       "  </tbody>\n",
       "</table>\n",
       "</div>"
      ],
      "text/plain": [
       "Predicted   Fresh  Rotten     All\n",
       "True                             \n",
       "Fresh      181423   22888  204311\n",
       "Rotten      34381   80572  114953\n",
       "All        215804  103460  319264"
      ]
     },
     "execution_count": 86,
     "metadata": {},
     "output_type": "execute_result"
    }
   ],
   "source": [
    "pd.crosstab(y_test, y_svc, rownames=['True'], colnames=['Predicted'], margins=True)"
   ]
  },
  {
   "cell_type": "code",
   "execution_count": 96,
   "id": "d8e80bcc-739b-433c-876c-9bbde1e022dd",
   "metadata": {},
   "outputs": [],
   "source": [
    "#save file with pickle\n",
    "filename = \"class_svc.p\"\n",
    "pickle.dump( class_svc, open( filename, \"wb\" ))"
   ]
  },
  {
   "cell_type": "markdown",
   "id": "5f8804c2-da06-46ca-84de-ed36d700ecf1",
   "metadata": {
    "jp-MarkdownHeadingCollapsed": true,
    "tags": []
   },
   "source": [
    "### KNN"
   ]
  },
  {
   "cell_type": "code",
   "execution_count": 87,
   "id": "1632e227",
   "metadata": {
    "id": "1632e227"
   },
   "outputs": [],
   "source": [
    "from sklearn.neighbors import KNeighborsClassifier\n",
    "\n",
    "class_knn = Pipeline([('tfidf', TfidfVectorizer()),\n",
    "                    ('class', KNeighborsClassifier())])\n",
    "\n",
    "class_knn.fit(X_train, y_train)\n",
    "y_knn = class_knn.predict(X_test)\n",
    "y_proba_knn = class_knn.predict_proba(X_test)"
   ]
  },
  {
   "cell_type": "code",
   "execution_count": 88,
   "id": "ce405f03",
   "metadata": {
    "id": "ce405f03",
    "outputId": "781d74b6-6cda-4143-a2e3-b72cad38d13b"
   },
   "outputs": [
    {
     "name": "stdout",
     "output_type": "stream",
     "text": [
      "              precision    recall  f1-score   support\n",
      "\n",
      "       Fresh       0.68      0.71      0.70    204311\n",
      "      Rotten       0.44      0.39      0.41    114953\n",
      "\n",
      "    accuracy                           0.60    319264\n",
      "   macro avg       0.56      0.55      0.56    319264\n",
      "weighted avg       0.59      0.60      0.59    319264\n",
      "\n"
     ]
    }
   ],
   "source": [
    "print(classification_report(y_test, y_knn))"
   ]
  },
  {
   "cell_type": "code",
   "execution_count": 89,
   "id": "c4d5f09d-28f5-47bf-85cb-e8bdca897e2b",
   "metadata": {
    "colab": {
     "base_uri": "https://localhost:8080/"
    },
    "id": "3UsdTDkkY37o",
    "outputId": "27d20870-f7cc-4d7a-86af-068ad3becc90"
   },
   "outputs": [
    {
     "name": "stdout",
     "output_type": "stream",
     "text": [
      "AUC: 0.584\n"
     ]
    }
   ],
   "source": [
    "auc_knn = roc_auc_score(y_test, y_proba_knn[:,1])\n",
    "print('AUC: %.3f' % auc_knn)"
   ]
  },
  {
   "cell_type": "code",
   "execution_count": 90,
   "id": "ba75701b-4b2e-4675-9cf6-798f1175fe23",
   "metadata": {
    "id": "NF14DaiCZOWc"
   },
   "outputs": [
    {
     "data": {
      "image/png": "[encoded data removed]",
      "text/plain": [
       "<Figure size 432x288 with 1 Axes>"
      ]
     },
     "metadata": {
      "needs_background": "light"
     },
     "output_type": "display_data"
    },
    {
     "data": {
      "text/plain": [
       "<Figure size 720x576 with 0 Axes>"
      ]
     },
     "metadata": {},
     "output_type": "display_data"
    }
   ],
   "source": [
    "skplt.metrics.plot_roc(y_test, y_proba_knn)\n",
    "plt.figure(figsize=(10,8))\n",
    "plt.show()"
   ]
  },
  {
   "cell_type": "code",
   "execution_count": 91,
   "id": "89502f43",
   "metadata": {
    "id": "89502f43",
    "outputId": "5634ec54-272b-452c-d898-54239f95f4ac"
   },
   "outputs": [
    {
     "data": {
      "text/html": [
       "<div>\n",
       "<style scoped>\n",
       "    .dataframe tbody tr th:only-of-type {\n",
       "        vertical-align: middle;\n",
       "    }\n",
       "\n",
       "    .dataframe tbody tr th {\n",
       "        vertical-align: top;\n",
       "    }\n",
       "\n",
       "    .dataframe thead th {\n",
       "        text-align: right;\n",
       "    }\n",
       "</style>\n",
       "<table border=\"1\" class=\"dataframe\">\n",
       "  <thead>\n",
       "    <tr style=\"text-align: right;\">\n",
       "      <th>Predicted</th>\n",
       "      <th>Fresh</th>\n",
       "      <th>Rotten</th>\n",
       "      <th>All</th>\n",
       "    </tr>\n",
       "    <tr>\n",
       "      <th>True</th>\n",
       "      <th></th>\n",
       "      <th></th>\n",
       "      <th></th>\n",
       "    </tr>\n",
       "  </thead>\n",
       "  <tbody>\n",
       "    <tr>\n",
       "      <th>Fresh</th>\n",
       "      <td>146040</td>\n",
       "      <td>58271</td>\n",
       "      <td>204311</td>\n",
       "    </tr>\n",
       "    <tr>\n",
       "      <th>Rotten</th>\n",
       "      <td>69655</td>\n",
       "      <td>45298</td>\n",
       "      <td>114953</td>\n",
       "    </tr>\n",
       "    <tr>\n",
       "      <th>All</th>\n",
       "      <td>215695</td>\n",
       "      <td>103569</td>\n",
       "      <td>319264</td>\n",
       "    </tr>\n",
       "  </tbody>\n",
       "</table>\n",
       "</div>"
      ],
      "text/plain": [
       "Predicted   Fresh  Rotten     All\n",
       "True                             \n",
       "Fresh      146040   58271  204311\n",
       "Rotten      69655   45298  114953\n",
       "All        215695  103569  319264"
      ]
     },
     "execution_count": 91,
     "metadata": {},
     "output_type": "execute_result"
    }
   ],
   "source": [
    "pd.crosstab(y_test, y_knn, rownames=['True'], colnames=['Predicted'], margins=True)"
   ]
  },
  {
   "cell_type": "code",
   "execution_count": 97,
   "id": "c4e1eb47-0e3d-4b1b-9e6c-dd17d405a72f",
   "metadata": {},
   "outputs": [],
   "source": [
    "#save file with pickle\n",
    "filename = \"class_knn.p\"\n",
    "pickle.dump( class_knn, open( filename, \"wb\" ))"
   ]
  },
  {
   "cell_type": "markdown",
   "id": "3a0af4d1-24ce-4f8a-ad6d-7a386482bc5a",
   "metadata": {
    "tags": []
   },
   "source": [
    "### Comparação dos Modelos"
   ]
  },
  {
   "cell_type": "code",
   "execution_count": 92,
   "id": "0768735b",
   "metadata": {
    "id": "0768735b",
    "outputId": "b39ccb8f-10b5-4591-89e7-37ccb4aeccff"
   },
   "outputs": [
    {
     "data": {
      "text/html": [
       "<div>\n",
       "<style scoped>\n",
       "    .dataframe tbody tr th:only-of-type {\n",
       "        vertical-align: middle;\n",
       "    }\n",
       "\n",
       "    .dataframe tbody tr th {\n",
       "        vertical-align: top;\n",
       "    }\n",
       "\n",
       "    .dataframe thead th {\n",
       "        text-align: right;\n",
       "    }\n",
       "</style>\n",
       "<table border=\"1\" class=\"dataframe\">\n",
       "  <thead>\n",
       "    <tr style=\"text-align: right;\">\n",
       "      <th></th>\n",
       "      <th>Accuracy</th>\n",
       "      <th>Model</th>\n",
       "    </tr>\n",
       "  </thead>\n",
       "  <tbody>\n",
       "    <tr>\n",
       "      <th>0</th>\n",
       "      <td>0.820622</td>\n",
       "      <td>Linear SVC</td>\n",
       "    </tr>\n",
       "    <tr>\n",
       "      <th>1</th>\n",
       "      <td>0.820587</td>\n",
       "      <td>Logistic Regression</td>\n",
       "    </tr>\n",
       "    <tr>\n",
       "      <th>2</th>\n",
       "      <td>0.679413</td>\n",
       "      <td>XGBoost</td>\n",
       "    </tr>\n",
       "    <tr>\n",
       "      <th>3</th>\n",
       "      <td>0.599310</td>\n",
       "      <td>KNN</td>\n",
       "    </tr>\n",
       "  </tbody>\n",
       "</table>\n",
       "</div>"
      ],
      "text/plain": [
       "   Accuracy                Model\n",
       "0  0.820622           Linear SVC\n",
       "1  0.820587  Logistic Regression\n",
       "2  0.679413              XGBoost\n",
       "3  0.599310                  KNN"
      ]
     },
     "execution_count": 92,
     "metadata": {},
     "output_type": "execute_result"
    }
   ],
   "source": [
    "model_performance = [accuracy_score(y_test, y_svc),accuracy_score(y_test, y_reglog),accuracy_score(y_test, y_xgb),accuracy_score(y_test, y_knn)]\n",
    "models = ['Linear SVC', 'Logistic Regression', 'XGBoost', 'KNN']\n",
    "df_model = pd.DataFrame(model_performance, columns=['Accuracy'])\n",
    "df_model['Model'] = models\n",
    "df_model"
   ]
  },
  {
   "cell_type": "markdown",
   "id": "e378de2b-3c03-40f8-8e82-34305e37c700",
   "metadata": {
    "tags": []
   },
   "source": [
    "### Preparação dos Dados"
   ]
  },
  {
   "cell_type": "code",
   "execution_count": 5,
   "id": "45e6c551-0534-4157-88f4-bc8549b669bb",
   "metadata": {},
   "outputs": [],
   "source": [
    "# Reduzindo os dados para poder aplicar a lematização. Dados estratificados por filme e tipo de review. \n",
    "rt_reviews_strat = rt_reviews.groupby(['rotten_tomatoes_link','review_type'], \n",
    "                                      group_keys=False).apply(lambda x: x.sample(frac=0.4))"
   ]
  },
  {
   "cell_type": "code",
   "execution_count": 53,
   "id": "57e04b9f-ac37-43df-a2e3-bfb8a7ee43a4",
   "metadata": {},
   "outputs": [
    {
     "data": {
      "text/plain": [
       "(425384, 9)"
      ]
     },
     "execution_count": 53,
     "metadata": {},
     "output_type": "execute_result"
    }
   ],
   "source": [
    "rt_reviews_strat.shape"
   ]
  },
  {
   "cell_type": "code",
   "execution_count": 164,
   "id": "124d3977-0bb0-4211-b29e-2846fd8f6b8b",
   "metadata": {},
   "outputs": [
    {
     "data": {
      "text/plain": [
       "Fresh     272305\n",
       "Rotten    153079\n",
       "Name: review_type, dtype: int64"
      ]
     },
     "execution_count": 164,
     "metadata": {},
     "output_type": "execute_result"
    }
   ],
   "source": [
    "rt_reviews_strat['review_type'].value_counts()"
   ]
  },
  {
   "cell_type": "code",
   "execution_count": 73,
   "id": "3fd1e539-c29e-48ed-ab25-af2fd040694b",
   "metadata": {},
   "outputs": [],
   "source": [
    "df = rt_reviews_strat[['review_content', 'review_type']]"
   ]
  },
  {
   "cell_type": "code",
   "execution_count": 177,
   "id": "aba5c35b-fbae-4b43-b5f4-a0cb1ec486be",
   "metadata": {},
   "outputs": [],
   "source": [
    "def lang_idf(df):\n",
    "    '''Checa o texto para ver se a lingua escrita é inglês, se não for retorna Falso.\n",
    "    Args:\n",
    "        df: dataframe object.\n",
    "    Returns: \n",
    "        df: dataframe object com coluna indicando a língua.'''\n",
    "    lang = []\n",
    "    for text in df['review_content']:\n",
    "        lang.append(langid.classify(text)[0])\n",
    "    df['lang_idf'] = lang\n",
    "    \n",
    "    return df"
   ]
  },
  {
   "cell_type": "code",
   "execution_count": 70,
   "id": "6c4bac73-0f1e-4e72-af2b-93e9220f3d2d",
   "metadata": {},
   "outputs": [],
   "source": [
    "def prepare_text(df):\n",
    "    '''Lemmatiza o texto para passar pelo modelo.\n",
    "    \n",
    "    Args:\n",
    "        df: dataframe object.\n",
    "    Returns:\n",
    "        df: dataframe object com o texto preparado.'''\n",
    "\n",
    "    mov_end = []\n",
    "\n",
    "    for index, item in enumerate(nlp.pipe(df['review_content'], n_process=6, batch_size=2000)):\n",
    "        doc = nlp(item)\n",
    "        #text_tokens = \" \".join([token.text for token in doc if not token.is_stop])\n",
    "        #doc = [token for token in doc if not token.is_stop]\n",
    "        lemmatized_sentence = \" \".join([token.lemma_ for token in doc if not token.is_stop])\n",
    "        #lemmatized_sentence = re.sub('[^a-zA-Z]', ' ', lemmatized_sentence)\n",
    "        #lemmatized_sentence = lemmatized_sentence.translate(str.maketrans('', '', string.punctuation))\n",
    "        #mov_end.append(text_tokens)\n",
    "        mov_end.append(lemmatized_sentence)\n",
    "        \n",
    "    df['prepared_review_content'] = mov_end\n",
    "    \n",
    "    return df"
   ]
  },
  {
   "cell_type": "code",
   "execution_count": 284,
   "id": "475f4a9e-1666-4a50-88f1-f04fa29cc5ea",
   "metadata": {},
   "outputs": [],
   "source": [
    "rt_reviews_strat = lang_idf(rt_reviews_strat)"
   ]
  },
  {
   "cell_type": "code",
   "execution_count": 289,
   "id": "e537d11a-2865-4811-a0a9-d1401edaceed",
   "metadata": {},
   "outputs": [
    {
     "data": {
      "text/plain": [
       "en    420729\n",
       "es       956\n",
       "pt       954\n",
       "fr       593\n",
       "de       414\n",
       "it       252\n",
       "nl       233\n",
       "da       151\n",
       "id       137\n",
       "pl        84\n",
       "Name: lang_idf, dtype: int64"
      ]
     },
     "execution_count": 289,
     "metadata": {},
     "output_type": "execute_result"
    }
   ],
   "source": [
    "rt_reviews_strat.lang_idf.value_counts().head(10)"
   ]
  },
  {
   "cell_type": "code",
   "execution_count": 290,
   "id": "f88522da-9dbc-449f-ab27-6b903b66ab8e",
   "metadata": {},
   "outputs": [],
   "source": [
    "rt_reviews_strat = rt_reviews_strat.loc[rt_reviews_strat.lang_idf == 'en']"
   ]
  },
  {
   "cell_type": "code",
   "execution_count": 291,
   "id": "fe9291cf-3e97-40e6-9de1-e5cff368a7d3",
   "metadata": {
    "tags": []
   },
   "outputs": [],
   "source": [
    "rt_reviews_strat = prepare_text(rt_reviews_strat)"
   ]
  },
  {
   "cell_type": "code",
   "execution_count": 294,
   "id": "d5753a35-75ba-4b14-a194-c1a75de16abd",
   "metadata": {},
   "outputs": [
    {
     "data": {
      "text/plain": [
       "'C:\\\\Users\\\\barbara.oliveira\\\\Documents\\\\Particular\\\\TCC\\\\tccenv'"
      ]
     },
     "execution_count": 294,
     "metadata": {},
     "output_type": "execute_result"
    }
   ],
   "source": []
  },
  {
   "cell_type": "code",
   "execution_count": 297,
   "id": "e77f64ed-a3df-4558-b552-990a5f5a3bb6",
   "metadata": {},
   "outputs": [],
   "source": [
    "rt_reviews_strat.to_csv(os.path.join(files_path, \"rt_reviews_lemma_english.csv\"))"
   ]
  },
  {
   "cell_type": "code",
   "execution_count": 292,
   "id": "27d08e80-5326-4237-9533-23c32e1c648e",
   "metadata": {},
   "outputs": [
    {
     "data": {
      "text/html": [
       "<div>\n",
       "<style scoped>\n",
       "    .dataframe tbody tr th:only-of-type {\n",
       "        vertical-align: middle;\n",
       "    }\n",
       "\n",
       "    .dataframe tbody tr th {\n",
       "        vertical-align: top;\n",
       "    }\n",
       "\n",
       "    .dataframe thead th {\n",
       "        text-align: right;\n",
       "    }\n",
       "</style>\n",
       "<table border=\"1\" class=\"dataframe\">\n",
       "  <thead>\n",
       "    <tr style=\"text-align: right;\">\n",
       "      <th></th>\n",
       "      <th>rotten_tomatoes_link</th>\n",
       "      <th>critic_name</th>\n",
       "      <th>top_critic</th>\n",
       "      <th>publisher_name</th>\n",
       "      <th>review_type</th>\n",
       "      <th>review_score</th>\n",
       "      <th>review_date</th>\n",
       "      <th>review_content</th>\n",
       "      <th>review_year</th>\n",
       "      <th>lang_idf</th>\n",
       "      <th>prepared_review_content</th>\n",
       "    </tr>\n",
       "  </thead>\n",
       "  <tbody>\n",
       "    <tr>\n",
       "      <th>658851</th>\n",
       "      <td>m/+_one_2019</td>\n",
       "      <td>James Berardinelli</td>\n",
       "      <td>True</td>\n",
       "      <td>ReelViews</td>\n",
       "      <td>Fresh</td>\n",
       "      <td>3/4</td>\n",
       "      <td>2019-06-12</td>\n",
       "      <td>For romance junkies, the film checks all the b...</td>\n",
       "      <td>2019</td>\n",
       "      <td>en</td>\n",
       "      <td>romance junkie , film check box .</td>\n",
       "    </tr>\n",
       "    <tr>\n",
       "      <th>658881</th>\n",
       "      <td>m/+_one_2019</td>\n",
       "      <td>Angie Han</td>\n",
       "      <td>False</td>\n",
       "      <td>Mashable</td>\n",
       "      <td>Fresh</td>\n",
       "      <td>NaN</td>\n",
       "      <td>2019-06-21</td>\n",
       "      <td>Therein lies the brilliance of Plus One: All o...</td>\n",
       "      <td>2019</td>\n",
       "      <td>en</td>\n",
       "      <td>lie brilliance plus : feel like happen .</td>\n",
       "    </tr>\n",
       "    <tr>\n",
       "      <th>658895</th>\n",
       "      <td>m/+_one_2019</td>\n",
       "      <td>Wendy Ide</td>\n",
       "      <td>False</td>\n",
       "      <td>Observer (UK)</td>\n",
       "      <td>Fresh</td>\n",
       "      <td>4/5</td>\n",
       "      <td>2020-02-09</td>\n",
       "      <td>Erskine, with her earthy chuckle and precision...</td>\n",
       "      <td>2020</td>\n",
       "      <td>en</td>\n",
       "      <td>Erskine , earthy chuckle precision - tool comi...</td>\n",
       "    </tr>\n",
       "    <tr>\n",
       "      <th>658893</th>\n",
       "      <td>m/+_one_2019</td>\n",
       "      <td>Max Copeman</td>\n",
       "      <td>True</td>\n",
       "      <td>Little White Lies</td>\n",
       "      <td>Fresh</td>\n",
       "      <td>3/5</td>\n",
       "      <td>2020-02-06</td>\n",
       "      <td>A love story with its heart in the right place.</td>\n",
       "      <td>2020</td>\n",
       "      <td>en</td>\n",
       "      <td>love story heart right place .</td>\n",
       "    </tr>\n",
       "    <tr>\n",
       "      <th>658846</th>\n",
       "      <td>m/+_one_2019</td>\n",
       "      <td>Jesse Hassenger</td>\n",
       "      <td>True</td>\n",
       "      <td>AV Club</td>\n",
       "      <td>Fresh</td>\n",
       "      <td>B</td>\n",
       "      <td>2019-06-10</td>\n",
       "      <td>Plus One isn't much more than consistently amu...</td>\n",
       "      <td>2019</td>\n",
       "      <td>en</td>\n",
       "      <td>plus consistently amusing sweetly romantic , r...</td>\n",
       "    </tr>\n",
       "  </tbody>\n",
       "</table>\n",
       "</div>"
      ],
      "text/plain": [
       "       rotten_tomatoes_link         critic_name  top_critic  \\\n",
       "658851         m/+_one_2019  James Berardinelli        True   \n",
       "658881         m/+_one_2019           Angie Han       False   \n",
       "658895         m/+_one_2019           Wendy Ide       False   \n",
       "658893         m/+_one_2019         Max Copeman        True   \n",
       "658846         m/+_one_2019     Jesse Hassenger        True   \n",
       "\n",
       "           publisher_name review_type review_score review_date  \\\n",
       "658851          ReelViews       Fresh          3/4  2019-06-12   \n",
       "658881           Mashable       Fresh          NaN  2019-06-21   \n",
       "658895      Observer (UK)       Fresh          4/5  2020-02-09   \n",
       "658893  Little White Lies       Fresh          3/5  2020-02-06   \n",
       "658846            AV Club       Fresh            B  2019-06-10   \n",
       "\n",
       "                                           review_content  review_year  \\\n",
       "658851  For romance junkies, the film checks all the b...         2019   \n",
       "658881  Therein lies the brilliance of Plus One: All o...         2019   \n",
       "658895  Erskine, with her earthy chuckle and precision...         2020   \n",
       "658893    A love story with its heart in the right place.         2020   \n",
       "658846  Plus One isn't much more than consistently amu...         2019   \n",
       "\n",
       "       lang_idf                            prepared_review_content  \n",
       "658851       en                  romance junkie , film check box .  \n",
       "658881       en           lie brilliance plus : feel like happen .  \n",
       "658895       en  Erskine , earthy chuckle precision - tool comi...  \n",
       "658893       en                     love story heart right place .  \n",
       "658846       en  plus consistently amusing sweetly romantic , r...  "
      ]
     },
     "execution_count": 292,
     "metadata": {},
     "output_type": "execute_result"
    }
   ],
   "source": [
    "rt_reviews_strat.head()"
   ]
  },
  {
   "cell_type": "markdown",
   "id": "29ea0336-2163-4029-998b-8952fcb215ad",
   "metadata": {
    "jp-MarkdownHeadingCollapsed": true,
    "tags": []
   },
   "source": [
    "### Modelagem após processamento"
   ]
  },
  {
   "cell_type": "code",
   "execution_count": 198,
   "id": "a878cff9-ec4e-4f4c-8fc8-b67634cd89ff",
   "metadata": {
    "id": "70f2901a"
   },
   "outputs": [],
   "source": [
    "from sklearn.model_selection import train_test_split\n",
    "\n",
    "X = df['prepared_review_content']\n",
    "y = df['review_type']\n",
    "\n",
    "X_train, X_test, y_train, y_test = train_test_split(X, y, test_size=0.3, \n",
    "                                                    random_state=42, \n",
    "                                                    stratify=df['review_type'])"
   ]
  },
  {
   "cell_type": "markdown",
   "id": "ee675fc9-a484-476f-86d6-f2a78fb4ce41",
   "metadata": {
    "tags": []
   },
   "source": [
    "### Regressão Logística"
   ]
  },
  {
   "cell_type": "code",
   "execution_count": 201,
   "id": "2d0ac59c-adb5-4d91-8715-ef6dad3ccf55",
   "metadata": {
    "id": "c0f2424b",
    "tags": []
   },
   "outputs": [],
   "source": [
    "# Regressão Logística\n",
    "from sklearn.linear_model import LogisticRegression\n",
    "\n",
    "class_reglog = Pipeline([('tfidf', TfidfVectorizer()),\n",
    "                    ('class',  LogisticRegression(solver='lbfgs', max_iter=500))])\n",
    "\n",
    "class_reglog.fit(X_train, y_train)\n",
    "y_reglog = class_reglog.predict(X_test)\n",
    "y_proba_reglog = class_reglog.predict_proba(X_test)"
   ]
  },
  {
   "cell_type": "code",
   "execution_count": 202,
   "id": "eb991e58-2b48-45fa-868a-014478c367d9",
   "metadata": {
    "colab": {
     "base_uri": "https://localhost:8080/"
    },
    "id": "b84f95bf",
    "outputId": "80d238ac-21ca-4f21-e287-c657882815aa"
   },
   "outputs": [
    {
     "name": "stdout",
     "output_type": "stream",
     "text": [
      "              precision    recall  f1-score   support\n",
      "\n",
      "       Fresh       0.81      0.89      0.85     80785\n",
      "      Rotten       0.76      0.63      0.69     45434\n",
      "\n",
      "    accuracy                           0.80    126219\n",
      "   macro avg       0.79      0.76      0.77    126219\n",
      "weighted avg       0.79      0.80      0.79    126219\n",
      "\n"
     ]
    }
   ],
   "source": [
    "print(classification_report(y_test, y_reglog))"
   ]
  },
  {
   "cell_type": "code",
   "execution_count": 203,
   "id": "f2189258-7c5c-4fd5-81b0-7f6b1cebf850",
   "metadata": {
    "colab": {
     "base_uri": "https://localhost:8080/"
    },
    "id": "abKFDI-UmMQj",
    "outputId": "699e5081-f1f8-46ff-ec3c-2a894593be28"
   },
   "outputs": [
    {
     "name": "stdout",
     "output_type": "stream",
     "text": [
      "AUC: 0.866\n"
     ]
    }
   ],
   "source": [
    "auc_reglog = roc_auc_score(y_test, y_proba_reglog[:,1])\n",
    "print('AUC: %.3f' % auc_reglog)"
   ]
  },
  {
   "cell_type": "code",
   "execution_count": 204,
   "id": "f827b1e4-a165-4676-a6b9-ce29bdc9c899",
   "metadata": {
    "colab": {
     "base_uri": "https://localhost:8080/",
     "height": 312
    },
    "id": "okZ2X9d0n9Ca",
    "outputId": "c09b3eaf-699a-486d-f642-3847e99dd801"
   },
   "outputs": [
    {
     "data": {
      "image/png": "[encoded data removed]",
      "text/plain": [
       "<Figure size 432x288 with 1 Axes>"
      ]
     },
     "metadata": {
      "needs_background": "light"
     },
     "output_type": "display_data"
    },
    {
     "data": {
      "text/plain": [
       "<Figure size 720x576 with 0 Axes>"
      ]
     },
     "metadata": {},
     "output_type": "display_data"
    }
   ],
   "source": [
    "skplt.metrics.plot_roc(y_test, y_proba_reglog)\n",
    "plt.figure(figsize=(10,8))\n",
    "plt.show()"
   ]
  },
  {
   "cell_type": "code",
   "execution_count": 205,
   "id": "7940bbd6-ce89-4dd8-a197-6c6426150220",
   "metadata": {
    "colab": {
     "base_uri": "https://localhost:8080/",
     "height": 175
    },
    "id": "78aa3c8d",
    "outputId": "e0e020f3-fe70-4a07-cc72-73b3a1d25643"
   },
   "outputs": [
    {
     "data": {
      "text/html": [
       "<div>\n",
       "<style scoped>\n",
       "    .dataframe tbody tr th:only-of-type {\n",
       "        vertical-align: middle;\n",
       "    }\n",
       "\n",
       "    .dataframe tbody tr th {\n",
       "        vertical-align: top;\n",
       "    }\n",
       "\n",
       "    .dataframe thead th {\n",
       "        text-align: right;\n",
       "    }\n",
       "</style>\n",
       "<table border=\"1\" class=\"dataframe\">\n",
       "  <thead>\n",
       "    <tr style=\"text-align: right;\">\n",
       "      <th>Predicted</th>\n",
       "      <th>Fresh</th>\n",
       "      <th>Rotten</th>\n",
       "      <th>All</th>\n",
       "    </tr>\n",
       "    <tr>\n",
       "      <th>True</th>\n",
       "      <th></th>\n",
       "      <th></th>\n",
       "      <th></th>\n",
       "    </tr>\n",
       "  </thead>\n",
       "  <tbody>\n",
       "    <tr>\n",
       "      <th>Fresh</th>\n",
       "      <td>71894</td>\n",
       "      <td>8891</td>\n",
       "      <td>80785</td>\n",
       "    </tr>\n",
       "    <tr>\n",
       "      <th>Rotten</th>\n",
       "      <td>16757</td>\n",
       "      <td>28677</td>\n",
       "      <td>45434</td>\n",
       "    </tr>\n",
       "    <tr>\n",
       "      <th>All</th>\n",
       "      <td>88651</td>\n",
       "      <td>37568</td>\n",
       "      <td>126219</td>\n",
       "    </tr>\n",
       "  </tbody>\n",
       "</table>\n",
       "</div>"
      ],
      "text/plain": [
       "Predicted  Fresh  Rotten     All\n",
       "True                            \n",
       "Fresh      71894    8891   80785\n",
       "Rotten     16757   28677   45434\n",
       "All        88651   37568  126219"
      ]
     },
     "execution_count": 205,
     "metadata": {},
     "output_type": "execute_result"
    }
   ],
   "source": [
    "pd.crosstab(y_test, y_reglog, rownames=['True'], colnames=['Predicted'], margins=True)"
   ]
  },
  {
   "cell_type": "code",
   "execution_count": 222,
   "id": "ecdfa496-ae68-4cec-b07f-b211315d4f8f",
   "metadata": {},
   "outputs": [],
   "source": [
    "#save file with pickle\n",
    "filename = \"class_lemm_reglog.p\"\n",
    "pickle.dump( class_reglog, open( filename, \"wb\" ))"
   ]
  },
  {
   "cell_type": "markdown",
   "id": "da6efac5-cad4-4cbf-985e-ab0f3906d6cd",
   "metadata": {
    "jp-MarkdownHeadingCollapsed": true,
    "tags": []
   },
   "source": [
    "### Gradient Boosting"
   ]
  },
  {
   "cell_type": "code",
   "execution_count": 206,
   "id": "5b2998fd-744b-4280-a084-d8481c1d2511",
   "metadata": {
    "id": "574754c9"
   },
   "outputs": [],
   "source": [
    "# XGBoost\n",
    "from sklearn.ensemble import GradientBoostingClassifier\n",
    "\n",
    "class_xgb = Pipeline([('tfidf', TfidfVectorizer()),\n",
    "                    ('class', GradientBoostingClassifier())])\n",
    "\n",
    "class_xgb.fit(X_train, y_train)\n",
    "y_xgb = class_xgb.predict(X_test)\n",
    "y_proba_xgb = class_xgb.predict_proba(X_test)"
   ]
  },
  {
   "cell_type": "code",
   "execution_count": 207,
   "id": "994a61fb-319a-4dd2-9301-f54a607a0ca0",
   "metadata": {
    "id": "d5ff4f97",
    "outputId": "76a9b6bd-6486-4595-820c-1c1171b5d363"
   },
   "outputs": [
    {
     "name": "stdout",
     "output_type": "stream",
     "text": [
      "              precision    recall  f1-score   support\n",
      "\n",
      "       Fresh       0.67      0.98      0.80     80785\n",
      "      Rotten       0.79      0.14      0.24     45434\n",
      "\n",
      "    accuracy                           0.68    126219\n",
      "   macro avg       0.73      0.56      0.52    126219\n",
      "weighted avg       0.71      0.68      0.60    126219\n",
      "\n"
     ]
    }
   ],
   "source": [
    "print(classification_report(y_test, y_xgb))"
   ]
  },
  {
   "cell_type": "code",
   "execution_count": 208,
   "id": "a938a08b-5bac-458f-94d3-d2514ac57de3",
   "metadata": {
    "colab": {
     "base_uri": "https://localhost:8080/"
    },
    "id": "3UsdTDkkY37o",
    "outputId": "27d20870-f7cc-4d7a-86af-068ad3becc90"
   },
   "outputs": [
    {
     "name": "stdout",
     "output_type": "stream",
     "text": [
      "AUC: 0.708\n"
     ]
    }
   ],
   "source": [
    "auc_xgb = roc_auc_score(y_test, y_proba_xgb[:,1])\n",
    "print('AUC: %.3f' % auc_xgb)"
   ]
  },
  {
   "cell_type": "code",
   "execution_count": 209,
   "id": "2d3be1a5-9b83-4206-b82e-fc3211b4ddda",
   "metadata": {
    "id": "NF14DaiCZOWc"
   },
   "outputs": [
    {
     "data": {
      "image/png": "[encoded data removed]",
      "text/plain": [
       "<Figure size 432x288 with 1 Axes>"
      ]
     },
     "metadata": {
      "needs_background": "light"
     },
     "output_type": "display_data"
    },
    {
     "data": {
      "text/plain": [
       "<Figure size 720x576 with 0 Axes>"
      ]
     },
     "metadata": {},
     "output_type": "display_data"
    }
   ],
   "source": [
    "skplt.metrics.plot_roc(y_test, y_proba_xgb)\n",
    "plt.figure(figsize=(10,8))\n",
    "plt.show()"
   ]
  },
  {
   "cell_type": "code",
   "execution_count": 210,
   "id": "9dfadd39-103b-4ab6-b844-3ef78fdfff22",
   "metadata": {
    "id": "f3a515f4",
    "outputId": "ce3f2bff-49ab-479f-bd3d-52b11c9e2606"
   },
   "outputs": [
    {
     "data": {
      "text/html": [
       "<div>\n",
       "<style scoped>\n",
       "    .dataframe tbody tr th:only-of-type {\n",
       "        vertical-align: middle;\n",
       "    }\n",
       "\n",
       "    .dataframe tbody tr th {\n",
       "        vertical-align: top;\n",
       "    }\n",
       "\n",
       "    .dataframe thead th {\n",
       "        text-align: right;\n",
       "    }\n",
       "</style>\n",
       "<table border=\"1\" class=\"dataframe\">\n",
       "  <thead>\n",
       "    <tr style=\"text-align: right;\">\n",
       "      <th>Predicted</th>\n",
       "      <th>Fresh</th>\n",
       "      <th>Rotten</th>\n",
       "      <th>All</th>\n",
       "    </tr>\n",
       "    <tr>\n",
       "      <th>True</th>\n",
       "      <th></th>\n",
       "      <th></th>\n",
       "      <th></th>\n",
       "    </tr>\n",
       "  </thead>\n",
       "  <tbody>\n",
       "    <tr>\n",
       "      <th>Fresh</th>\n",
       "      <td>79051</td>\n",
       "      <td>1734</td>\n",
       "      <td>80785</td>\n",
       "    </tr>\n",
       "    <tr>\n",
       "      <th>Rotten</th>\n",
       "      <td>38943</td>\n",
       "      <td>6491</td>\n",
       "      <td>45434</td>\n",
       "    </tr>\n",
       "    <tr>\n",
       "      <th>All</th>\n",
       "      <td>117994</td>\n",
       "      <td>8225</td>\n",
       "      <td>126219</td>\n",
       "    </tr>\n",
       "  </tbody>\n",
       "</table>\n",
       "</div>"
      ],
      "text/plain": [
       "Predicted   Fresh  Rotten     All\n",
       "True                             \n",
       "Fresh       79051    1734   80785\n",
       "Rotten      38943    6491   45434\n",
       "All        117994    8225  126219"
      ]
     },
     "execution_count": 210,
     "metadata": {},
     "output_type": "execute_result"
    }
   ],
   "source": [
    "pd.crosstab(y_test, y_xgb, rownames=['True'], colnames=['Predicted'], margins=True)"
   ]
  },
  {
   "cell_type": "code",
   "execution_count": 223,
   "id": "dc28a0c4-2ba1-43db-be7b-861f95ebc86e",
   "metadata": {},
   "outputs": [],
   "source": [
    "#save file with pickle\n",
    "filename = \"class_lemm_xgb.p\"\n",
    "pickle.dump( class_xgb, open( filename, \"wb\" ))"
   ]
  },
  {
   "cell_type": "markdown",
   "id": "f1c089f9-d114-4770-bbb7-6cb62dd76e20",
   "metadata": {
    "jp-MarkdownHeadingCollapsed": true,
    "tags": []
   },
   "source": [
    "### SVC"
   ]
  },
  {
   "cell_type": "code",
   "execution_count": 211,
   "id": "386df7cb-5f7e-4542-ad44-575e92edcc2b",
   "metadata": {
    "id": "56806872",
    "tags": []
   },
   "outputs": [],
   "source": [
    "# SVC\n",
    "from sklearn.svm import LinearSVC\n",
    "from sklearn.calibration import CalibratedClassifierCV\n",
    "\n",
    "svm = LinearSVC()\n",
    "clf = CalibratedClassifierCV(svm) \n",
    "\n",
    "class_svc = Pipeline([('tfidf', TfidfVectorizer()),\n",
    "                    ('class', clf)])\n",
    "\n",
    "class_svc.fit(X_train, y_train)\n",
    "y_svc = class_svc.predict(X_test)\n",
    "y_proba_svc = class_svc.predict_proba(X_test)"
   ]
  },
  {
   "cell_type": "code",
   "execution_count": 212,
   "id": "733bcc4b-f993-4a46-848f-e2b14b054701",
   "metadata": {
    "id": "7c4cd83d",
    "outputId": "9f9c3efa-07d7-48d2-9000-32d47238b85d",
    "scrolled": true,
    "tags": []
   },
   "outputs": [
    {
     "name": "stdout",
     "output_type": "stream",
     "text": [
      "              precision    recall  f1-score   support\n",
      "\n",
      "       Fresh       0.81      0.88      0.85     80785\n",
      "      Rotten       0.75      0.63      0.69     45434\n",
      "\n",
      "    accuracy                           0.79    126219\n",
      "   macro avg       0.78      0.76      0.77    126219\n",
      "weighted avg       0.79      0.79      0.79    126219\n",
      "\n"
     ]
    }
   ],
   "source": [
    "print(classification_report(y_test, y_svc))"
   ]
  },
  {
   "cell_type": "code",
   "execution_count": 213,
   "id": "13cecb49-b0f3-4c0b-aba1-0769a94b7b2b",
   "metadata": {
    "colab": {
     "base_uri": "https://localhost:8080/"
    },
    "id": "3UsdTDkkY37o",
    "outputId": "27d20870-f7cc-4d7a-86af-068ad3becc90"
   },
   "outputs": [
    {
     "name": "stdout",
     "output_type": "stream",
     "text": [
      "AUC: 0.861\n"
     ]
    }
   ],
   "source": [
    "auc_svc = roc_auc_score(y_test, y_proba_svc[:,1])\n",
    "print('AUC: %.3f' % auc_svc)"
   ]
  },
  {
   "cell_type": "code",
   "execution_count": 214,
   "id": "c5d11148-e13c-426f-badf-2ef08fc79d76",
   "metadata": {
    "id": "NF14DaiCZOWc"
   },
   "outputs": [
    {
     "data": {
      "image/png": "[encoded data removed]",
      "text/plain": [
       "<Figure size 432x288 with 1 Axes>"
      ]
     },
     "metadata": {
      "needs_background": "light"
     },
     "output_type": "display_data"
    },
    {
     "data": {
      "text/plain": [
       "<Figure size 720x576 with 0 Axes>"
      ]
     },
     "metadata": {},
     "output_type": "display_data"
    }
   ],
   "source": [
    "skplt.metrics.plot_roc(y_test, y_proba_svc)\n",
    "plt.figure(figsize=(10,8))\n",
    "plt.show()"
   ]
  },
  {
   "cell_type": "code",
   "execution_count": 215,
   "id": "a7ea63ae-f973-474b-b4ac-42fac48e3bc2",
   "metadata": {
    "id": "54919eb7",
    "outputId": "b352ba96-9e97-402a-a6f5-ecbdc0cca514"
   },
   "outputs": [
    {
     "data": {
      "text/html": [
       "<div>\n",
       "<style scoped>\n",
       "    .dataframe tbody tr th:only-of-type {\n",
       "        vertical-align: middle;\n",
       "    }\n",
       "\n",
       "    .dataframe tbody tr th {\n",
       "        vertical-align: top;\n",
       "    }\n",
       "\n",
       "    .dataframe thead th {\n",
       "        text-align: right;\n",
       "    }\n",
       "</style>\n",
       "<table border=\"1\" class=\"dataframe\">\n",
       "  <thead>\n",
       "    <tr style=\"text-align: right;\">\n",
       "      <th>Predicted</th>\n",
       "      <th>Fresh</th>\n",
       "      <th>Rotten</th>\n",
       "      <th>All</th>\n",
       "    </tr>\n",
       "    <tr>\n",
       "      <th>True</th>\n",
       "      <th></th>\n",
       "      <th></th>\n",
       "      <th></th>\n",
       "    </tr>\n",
       "  </thead>\n",
       "  <tbody>\n",
       "    <tr>\n",
       "      <th>Fresh</th>\n",
       "      <td>71318</td>\n",
       "      <td>9467</td>\n",
       "      <td>80785</td>\n",
       "    </tr>\n",
       "    <tr>\n",
       "      <th>Rotten</th>\n",
       "      <td>16598</td>\n",
       "      <td>28836</td>\n",
       "      <td>45434</td>\n",
       "    </tr>\n",
       "    <tr>\n",
       "      <th>All</th>\n",
       "      <td>87916</td>\n",
       "      <td>38303</td>\n",
       "      <td>126219</td>\n",
       "    </tr>\n",
       "  </tbody>\n",
       "</table>\n",
       "</div>"
      ],
      "text/plain": [
       "Predicted  Fresh  Rotten     All\n",
       "True                            \n",
       "Fresh      71318    9467   80785\n",
       "Rotten     16598   28836   45434\n",
       "All        87916   38303  126219"
      ]
     },
     "execution_count": 215,
     "metadata": {},
     "output_type": "execute_result"
    }
   ],
   "source": [
    "pd.crosstab(y_test, y_svc, rownames=['True'], colnames=['Predicted'], margins=True)"
   ]
  },
  {
   "cell_type": "code",
   "execution_count": 225,
   "id": "7cba83d1-42b5-4acd-9c9d-0d807c59926f",
   "metadata": {},
   "outputs": [],
   "source": [
    "#save file with pickle\n",
    "filename = \"class_lemm_svc.p\"\n",
    "pickle.dump( class_svc, open( filename, \"wb\" ))"
   ]
  },
  {
   "cell_type": "markdown",
   "id": "962e6a24-fa50-455d-93ad-d39ef56daad4",
   "metadata": {
    "tags": []
   },
   "source": [
    "### KNN"
   ]
  },
  {
   "cell_type": "code",
   "execution_count": 216,
   "id": "a67371fe-0c64-4ac0-b510-e19dc3b2e502",
   "metadata": {
    "id": "1632e227"
   },
   "outputs": [],
   "source": [
    "from sklearn.neighbors import KNeighborsClassifier\n",
    "\n",
    "class_knn = Pipeline([('tfidf', TfidfVectorizer()),\n",
    "                    ('class', KNeighborsClassifier())])\n",
    "\n",
    "class_knn.fit(X_train, y_train)\n",
    "y_knn = class_knn.predict(X_test)\n",
    "y_proba_knn = class_knn.predict_proba(X_test)"
   ]
  },
  {
   "cell_type": "code",
   "execution_count": 217,
   "id": "5294b602-4545-4024-83cd-0283994e3288",
   "metadata": {
    "id": "ce405f03",
    "outputId": "781d74b6-6cda-4143-a2e3-b72cad38d13b"
   },
   "outputs": [
    {
     "name": "stdout",
     "output_type": "stream",
     "text": [
      "              precision    recall  f1-score   support\n",
      "\n",
      "       Fresh       0.69      0.39      0.50     80785\n",
      "      Rotten       0.39      0.69      0.50     45434\n",
      "\n",
      "    accuracy                           0.50    126219\n",
      "   macro avg       0.54      0.54      0.50    126219\n",
      "weighted avg       0.58      0.50      0.50    126219\n",
      "\n"
     ]
    }
   ],
   "source": [
    "print(classification_report(y_test, y_knn))"
   ]
  },
  {
   "cell_type": "code",
   "execution_count": 218,
   "id": "55febb5d-0121-4aba-8665-70f22367efc7",
   "metadata": {
    "colab": {
     "base_uri": "https://localhost:8080/"
    },
    "id": "3UsdTDkkY37o",
    "outputId": "27d20870-f7cc-4d7a-86af-068ad3becc90"
   },
   "outputs": [
    {
     "name": "stdout",
     "output_type": "stream",
     "text": [
      "AUC: 0.554\n"
     ]
    }
   ],
   "source": [
    "auc_knn = roc_auc_score(y_test, y_proba_knn[:,1])\n",
    "print('AUC: %.3f' % auc_knn)"
   ]
  },
  {
   "cell_type": "code",
   "execution_count": 219,
   "id": "6b55b3f7-9b5f-4edd-95c3-38a8c5f7e3b7",
   "metadata": {
    "id": "NF14DaiCZOWc"
   },
   "outputs": [
    {
     "data": {
      "image/png": "[encoded data removed]",
      "text/plain": [
       "<Figure size 432x288 with 1 Axes>"
      ]
     },
     "metadata": {
      "needs_background": "light"
     },
     "output_type": "display_data"
    },
    {
     "data": {
      "text/plain": [
       "<Figure size 720x576 with 0 Axes>"
      ]
     },
     "metadata": {},
     "output_type": "display_data"
    }
   ],
   "source": [
    "skplt.metrics.plot_roc(y_test, y_proba_knn)\n",
    "plt.figure(figsize=(10,8))\n",
    "plt.show()"
   ]
  },
  {
   "cell_type": "code",
   "execution_count": 220,
   "id": "98635b77-653a-41ff-becc-2dca9f5c1596",
   "metadata": {
    "id": "89502f43",
    "outputId": "5634ec54-272b-452c-d898-54239f95f4ac"
   },
   "outputs": [
    {
     "data": {
      "text/html": [
       "<div>\n",
       "<style scoped>\n",
       "    .dataframe tbody tr th:only-of-type {\n",
       "        vertical-align: middle;\n",
       "    }\n",
       "\n",
       "    .dataframe tbody tr th {\n",
       "        vertical-align: top;\n",
       "    }\n",
       "\n",
       "    .dataframe thead th {\n",
       "        text-align: right;\n",
       "    }\n",
       "</style>\n",
       "<table border=\"1\" class=\"dataframe\">\n",
       "  <thead>\n",
       "    <tr style=\"text-align: right;\">\n",
       "      <th>Predicted</th>\n",
       "      <th>Fresh</th>\n",
       "      <th>Rotten</th>\n",
       "      <th>All</th>\n",
       "    </tr>\n",
       "    <tr>\n",
       "      <th>True</th>\n",
       "      <th></th>\n",
       "      <th></th>\n",
       "      <th></th>\n",
       "    </tr>\n",
       "  </thead>\n",
       "  <tbody>\n",
       "    <tr>\n",
       "      <th>Fresh</th>\n",
       "      <td>31356</td>\n",
       "      <td>49429</td>\n",
       "      <td>80785</td>\n",
       "    </tr>\n",
       "    <tr>\n",
       "      <th>Rotten</th>\n",
       "      <td>14201</td>\n",
       "      <td>31233</td>\n",
       "      <td>45434</td>\n",
       "    </tr>\n",
       "    <tr>\n",
       "      <th>All</th>\n",
       "      <td>45557</td>\n",
       "      <td>80662</td>\n",
       "      <td>126219</td>\n",
       "    </tr>\n",
       "  </tbody>\n",
       "</table>\n",
       "</div>"
      ],
      "text/plain": [
       "Predicted  Fresh  Rotten     All\n",
       "True                            \n",
       "Fresh      31356   49429   80785\n",
       "Rotten     14201   31233   45434\n",
       "All        45557   80662  126219"
      ]
     },
     "execution_count": 220,
     "metadata": {},
     "output_type": "execute_result"
    }
   ],
   "source": [
    "pd.crosstab(y_test, y_knn, rownames=['True'], colnames=['Predicted'], margins=True)"
   ]
  },
  {
   "cell_type": "code",
   "execution_count": 224,
   "id": "ba2eb990-29d3-428c-a4e5-150bcc032d4a",
   "metadata": {},
   "outputs": [],
   "source": [
    "#save file with pickle\n",
    "filename = \"class_lemm_knn.p\"\n",
    "pickle.dump( class_knn, open( filename, \"wb\" ))"
   ]
  },
  {
   "cell_type": "markdown",
   "id": "dbd3a485-398a-4552-a8fc-9c3dc7ef48ae",
   "metadata": {
    "jp-MarkdownHeadingCollapsed": true,
    "tags": []
   },
   "source": [
    "### Comparação dos Modelos"
   ]
  },
  {
   "cell_type": "code",
   "execution_count": 221,
   "id": "4598bfae-b41b-450f-99c4-07022120dc21",
   "metadata": {
    "id": "0768735b",
    "outputId": "b39ccb8f-10b5-4591-89e7-37ccb4aeccff"
   },
   "outputs": [
    {
     "data": {
      "text/html": [
       "<div>\n",
       "<style scoped>\n",
       "    .dataframe tbody tr th:only-of-type {\n",
       "        vertical-align: middle;\n",
       "    }\n",
       "\n",
       "    .dataframe tbody tr th {\n",
       "        vertical-align: top;\n",
       "    }\n",
       "\n",
       "    .dataframe thead th {\n",
       "        text-align: right;\n",
       "    }\n",
       "</style>\n",
       "<table border=\"1\" class=\"dataframe\">\n",
       "  <thead>\n",
       "    <tr style=\"text-align: right;\">\n",
       "      <th></th>\n",
       "      <th>Accuracy</th>\n",
       "      <th>Model</th>\n",
       "    </tr>\n",
       "  </thead>\n",
       "  <tbody>\n",
       "    <tr>\n",
       "      <th>0</th>\n",
       "      <td>0.793494</td>\n",
       "      <td>Linear SVC</td>\n",
       "    </tr>\n",
       "    <tr>\n",
       "      <th>1</th>\n",
       "      <td>0.796798</td>\n",
       "      <td>Logistic Regression</td>\n",
       "    </tr>\n",
       "    <tr>\n",
       "      <th>2</th>\n",
       "      <td>0.677727</td>\n",
       "      <td>XGBoost</td>\n",
       "    </tr>\n",
       "    <tr>\n",
       "      <th>3</th>\n",
       "      <td>0.495876</td>\n",
       "      <td>KNN</td>\n",
       "    </tr>\n",
       "  </tbody>\n",
       "</table>\n",
       "</div>"
      ],
      "text/plain": [
       "   Accuracy                Model\n",
       "0  0.793494           Linear SVC\n",
       "1  0.796798  Logistic Regression\n",
       "2  0.677727              XGBoost\n",
       "3  0.495876                  KNN"
      ]
     },
     "execution_count": 221,
     "metadata": {},
     "output_type": "execute_result"
    }
   ],
   "source": [
    "model_performance = [accuracy_score(y_test, y_svc),accuracy_score(y_test, y_reglog),accuracy_score(y_test, y_xgb),accuracy_score(y_test, y_knn)]\n",
    "models = ['Linear SVC', 'Logistic Regression', 'XGBoost', 'KNN']\n",
    "df_model = pd.DataFrame(model_performance, columns=['Accuracy'])\n",
    "df_model['Model'] = models\n",
    "df_model"
   ]
  },
  {
   "cell_type": "code",
   "execution_count": 230,
   "id": "a83e72be-e6a3-4a75-b88c-f82510a661fe",
   "metadata": {
    "tags": []
   },
   "outputs": [],
   "source": [
    "import json\n",
    "import requests\n",
    "import re\n",
    "import time\n",
    "import string\n",
    "from urllib.parse import urlparse\n"
   ]
  },
  {
   "cell_type": "code",
   "execution_count": 232,
   "id": "d33c3aab-624b-40ce-9936-3d67b0d98bbf",
   "metadata": {},
   "outputs": [],
   "source": [
    "s = requests.Session()"
   ]
  },
  {
   "cell_type": "code",
   "execution_count": 258,
   "id": "0fc3339e-07e7-4abe-b5f9-47fa5888cead",
   "metadata": {},
   "outputs": [],
   "source": [
    "def get_reviews(movie_url):\n",
    "    r = requests.get(movie_url)\n",
    "    movie_id = re.findall(r'(?<=movieId\":\")(.*)(?=\",\"type)',r.text)[0]\n",
    "\n",
    "    url = f\"https://www.rottentomatoes.com/napi/movie/{movie_id}/reviews/user\" #use reviews/userfor user reviews\n",
    "    \n",
    "    headers = {\n",
    "    'Referer': 'https://www.rottentomatoes.com/m/notebook/reviews?type=user',\n",
    "    'User-Agent': 'Mozilla/5.0 (Windows NT 10.0; Win64; x64) AppleWebKit/537.36 (KHTML, like Gecko) Chrome/74.0.3729.108 Safari/537.36',\n",
    "    'X-Requested-With': 'XMLHttpRequest',\n",
    "        }\n",
    "    \n",
    "    payload = {\n",
    "            'direction': 'next',\n",
    "            'endCursor': '',\n",
    "            'startCursor': '',\n",
    "        }\n",
    "\n",
    "    res = urlparse(movie_url)\n",
    "    \n",
    "    movie_link = []\n",
    "    review_data = []\n",
    "\n",
    "    while True:\n",
    "            r = s.get(url, headers=headers, params=payload)\n",
    "            data = r.json()\n",
    "\n",
    "            if not data['pageInfo']['hasNextPage']:\n",
    "                break\n",
    "\n",
    "            payload['endCursor'] = data['pageInfo']['endCursor']\n",
    "            payload['startCursor'] = data['pageInfo']['startCursor'] if data['pageInfo'].get('startCursor') else ''\n",
    "\n",
    "            for index in range(0,len(data['reviews'])):\n",
    "                movie_link.append(re.findall(r'(?<=\\/)(.*?)(?=\\/reviews)',res.path)[0])\n",
    "                review_data.append(data['reviews'][index]['review'])\n",
    "\n",
    "            time.sleep(1)\n",
    "\n",
    "    #movie = pd.Series(review_data)\n",
    "    movie = pd.DataFrame(\n",
    "    {'rotten_tomatoes_link': movie_link, 'review_content': review_data}\n",
    "        )\n",
    "    \n",
    "    return movie"
   ]
  },
  {
   "cell_type": "code",
   "execution_count": 259,
   "id": "a7489a02-3fb8-4fa6-85b5-de3a09fe671a",
   "metadata": {},
   "outputs": [],
   "source": [
    "movie = get_reviews('https://www.rottentomatoes.com/m/mother_2017/reviews')"
   ]
  },
  {
   "cell_type": "code",
   "execution_count": 260,
   "id": "a408f921-f302-45ac-af96-04d9f1dd6a5f",
   "metadata": {},
   "outputs": [
    {
     "data": {
      "text/html": [
       "<div>\n",
       "<style scoped>\n",
       "    .dataframe tbody tr th:only-of-type {\n",
       "        vertical-align: middle;\n",
       "    }\n",
       "\n",
       "    .dataframe tbody tr th {\n",
       "        vertical-align: top;\n",
       "    }\n",
       "\n",
       "    .dataframe thead th {\n",
       "        text-align: right;\n",
       "    }\n",
       "</style>\n",
       "<table border=\"1\" class=\"dataframe\">\n",
       "  <thead>\n",
       "    <tr style=\"text-align: right;\">\n",
       "      <th></th>\n",
       "      <th>rotten_tomatoes_link</th>\n",
       "      <th>review_content</th>\n",
       "    </tr>\n",
       "  </thead>\n",
       "  <tbody>\n",
       "    <tr>\n",
       "      <th>0</th>\n",
       "      <td>m/mother_2017</td>\n",
       "      <td>An intense, gorgeous and brilliant allegory. I...</td>\n",
       "    </tr>\n",
       "    <tr>\n",
       "      <th>1</th>\n",
       "      <td>m/mother_2017</td>\n",
       "      <td>too literal. lacks any kind of nuance. lacks c...</td>\n",
       "    </tr>\n",
       "    <tr>\n",
       "      <th>2</th>\n",
       "      <td>m/mother_2017</td>\n",
       "      <td>As though as it is to watch and understand, it...</td>\n",
       "    </tr>\n",
       "    <tr>\n",
       "      <th>3</th>\n",
       "      <td>m/mother_2017</td>\n",
       "      <td>This movie had me pissed off for 2 hours. Thou...</td>\n",
       "    </tr>\n",
       "    <tr>\n",
       "      <th>4</th>\n",
       "      <td>m/mother_2017</td>\n",
       "      <td>Mother! Is frustrating, stupidly surrealistic ...</td>\n",
       "    </tr>\n",
       "  </tbody>\n",
       "</table>\n",
       "</div>"
      ],
      "text/plain": [
       "  rotten_tomatoes_link                                     review_content\n",
       "0        m/mother_2017  An intense, gorgeous and brilliant allegory. I...\n",
       "1        m/mother_2017  too literal. lacks any kind of nuance. lacks c...\n",
       "2        m/mother_2017  As though as it is to watch and understand, it...\n",
       "3        m/mother_2017  This movie had me pissed off for 2 hours. Thou...\n",
       "4        m/mother_2017  Mother! Is frustrating, stupidly surrealistic ..."
      ]
     },
     "execution_count": 260,
     "metadata": {},
     "output_type": "execute_result"
    }
   ],
   "source": [
    "movie.head()"
   ]
  },
  {
   "cell_type": "code",
   "execution_count": 261,
   "id": "becfb6ab-826c-4459-8f6f-f90e33afe38f",
   "metadata": {},
   "outputs": [],
   "source": [
    "movie.to_csv(os.path.join(files_path, \"user_reviews_mother.csv\"))"
   ]
  },
  {
   "cell_type": "code",
   "execution_count": 263,
   "id": "e4b4986f-4655-43a1-9b91-828d1efc49dc",
   "metadata": {},
   "outputs": [
    {
     "data": {
      "text/plain": [
       "Fresh     256\n",
       "Rotten    118\n",
       "Name: review_type, dtype: int64"
      ]
     },
     "execution_count": 263,
     "metadata": {},
     "output_type": "execute_result"
    }
   ],
   "source": [
    "rt_reviews.loc[rt_reviews.rotten_tomatoes_link == 'm/mother_2017']['review_type'].value_counts()"
   ]
  },
  {
   "cell_type": "code",
   "execution_count": 278,
   "id": "d1af2dfc-4fad-4651-b92c-e99f3741abd8",
   "metadata": {},
   "outputs": [
    {
     "data": {
      "text/plain": [
       "<AxesSubplot:ylabel='review_type'>"
      ]
     },
     "execution_count": 278,
     "metadata": {},
     "output_type": "execute_result"
    },
    {
     "data": {
      "image/png": "[encoded data removed]",
      "text/plain": [
       "<Figure size 432x288 with 1 Axes>"
      ]
     },
     "metadata": {},
     "output_type": "display_data"
    }
   ],
   "source": [
    "rt_reviews.loc[rt_reviews.rotten_tomatoes_link == 'm/mother_2017']['review_type'].value_counts().plot(kind='pie', autopct='%1.1f%%')"
   ]
  },
  {
   "cell_type": "code",
   "execution_count": 264,
   "id": "3724f7f1-1bd8-4433-a371-7857027fa441",
   "metadata": {},
   "outputs": [
    {
     "data": {
      "text/plain": [
       "Fresh     102\n",
       "Rotten     47\n",
       "Name: review_type, dtype: int64"
      ]
     },
     "execution_count": 264,
     "metadata": {},
     "output_type": "execute_result"
    }
   ],
   "source": [
    "rt_reviews_strat.loc[rt_reviews_strat.rotten_tomatoes_link == 'm/mother_2017']['review_type'].value_counts()"
   ]
  },
  {
   "cell_type": "code",
   "execution_count": 283,
   "id": "96b3383d-f877-4a85-8892-cf2ac53bd44a",
   "metadata": {},
   "outputs": [
    {
     "data": {
      "text/html": [
       "<div>\n",
       "<style scoped>\n",
       "    .dataframe tbody tr th:only-of-type {\n",
       "        vertical-align: middle;\n",
       "    }\n",
       "\n",
       "    .dataframe tbody tr th {\n",
       "        vertical-align: top;\n",
       "    }\n",
       "\n",
       "    .dataframe thead th {\n",
       "        text-align: right;\n",
       "    }\n",
       "</style>\n",
       "<table border=\"1\" class=\"dataframe\">\n",
       "  <thead>\n",
       "    <tr style=\"text-align: right;\">\n",
       "      <th></th>\n",
       "      <th>rotten_tomatoes_link</th>\n",
       "      <th>critic_name</th>\n",
       "      <th>top_critic</th>\n",
       "      <th>publisher_name</th>\n",
       "      <th>review_type</th>\n",
       "      <th>review_score</th>\n",
       "      <th>review_date</th>\n",
       "      <th>review_content</th>\n",
       "      <th>review_year</th>\n",
       "    </tr>\n",
       "  </thead>\n",
       "  <tbody>\n",
       "    <tr>\n",
       "      <th>658851</th>\n",
       "      <td>m/+_one_2019</td>\n",
       "      <td>James Berardinelli</td>\n",
       "      <td>True</td>\n",
       "      <td>ReelViews</td>\n",
       "      <td>Fresh</td>\n",
       "      <td>3/4</td>\n",
       "      <td>2019-06-12</td>\n",
       "      <td>For romance junkies, the film checks all the b...</td>\n",
       "      <td>2019</td>\n",
       "    </tr>\n",
       "    <tr>\n",
       "      <th>658881</th>\n",
       "      <td>m/+_one_2019</td>\n",
       "      <td>Angie Han</td>\n",
       "      <td>False</td>\n",
       "      <td>Mashable</td>\n",
       "      <td>Fresh</td>\n",
       "      <td>NaN</td>\n",
       "      <td>2019-06-21</td>\n",
       "      <td>Therein lies the brilliance of Plus One: All o...</td>\n",
       "      <td>2019</td>\n",
       "    </tr>\n",
       "    <tr>\n",
       "      <th>658895</th>\n",
       "      <td>m/+_one_2019</td>\n",
       "      <td>Wendy Ide</td>\n",
       "      <td>False</td>\n",
       "      <td>Observer (UK)</td>\n",
       "      <td>Fresh</td>\n",
       "      <td>4/5</td>\n",
       "      <td>2020-02-09</td>\n",
       "      <td>Erskine, with her earthy chuckle and precision...</td>\n",
       "      <td>2020</td>\n",
       "    </tr>\n",
       "    <tr>\n",
       "      <th>658893</th>\n",
       "      <td>m/+_one_2019</td>\n",
       "      <td>Max Copeman</td>\n",
       "      <td>True</td>\n",
       "      <td>Little White Lies</td>\n",
       "      <td>Fresh</td>\n",
       "      <td>3/5</td>\n",
       "      <td>2020-02-06</td>\n",
       "      <td>A love story with its heart in the right place.</td>\n",
       "      <td>2020</td>\n",
       "    </tr>\n",
       "    <tr>\n",
       "      <th>658846</th>\n",
       "      <td>m/+_one_2019</td>\n",
       "      <td>Jesse Hassenger</td>\n",
       "      <td>True</td>\n",
       "      <td>AV Club</td>\n",
       "      <td>Fresh</td>\n",
       "      <td>B</td>\n",
       "      <td>2019-06-10</td>\n",
       "      <td>Plus One isn't much more than consistently amu...</td>\n",
       "      <td>2019</td>\n",
       "    </tr>\n",
       "  </tbody>\n",
       "</table>\n",
       "</div>"
      ],
      "text/plain": [
       "       rotten_tomatoes_link         critic_name  top_critic  \\\n",
       "658851         m/+_one_2019  James Berardinelli        True   \n",
       "658881         m/+_one_2019           Angie Han       False   \n",
       "658895         m/+_one_2019           Wendy Ide       False   \n",
       "658893         m/+_one_2019         Max Copeman        True   \n",
       "658846         m/+_one_2019     Jesse Hassenger        True   \n",
       "\n",
       "           publisher_name review_type review_score review_date  \\\n",
       "658851          ReelViews       Fresh          3/4  2019-06-12   \n",
       "658881           Mashable       Fresh          NaN  2019-06-21   \n",
       "658895      Observer (UK)       Fresh          4/5  2020-02-09   \n",
       "658893  Little White Lies       Fresh          3/5  2020-02-06   \n",
       "658846            AV Club       Fresh            B  2019-06-10   \n",
       "\n",
       "                                           review_content  review_year  \n",
       "658851  For romance junkies, the film checks all the b...         2019  \n",
       "658881  Therein lies the brilliance of Plus One: All o...         2019  \n",
       "658895  Erskine, with her earthy chuckle and precision...         2020  \n",
       "658893    A love story with its heart in the right place.         2020  \n",
       "658846  Plus One isn't much more than consistently amu...         2019  "
      ]
     },
     "execution_count": 283,
     "metadata": {},
     "output_type": "execute_result"
    }
   ],
   "source": [
    "rt_reviews_strat.head()"
   ]
  },
  {
   "cell_type": "code",
   "execution_count": 265,
   "id": "b0552af0-df60-4094-b010-253ca829f5a6",
   "metadata": {},
   "outputs": [],
   "source": [
    "movie = lang_idf(movie)"
   ]
  },
  {
   "cell_type": "code",
   "execution_count": 267,
   "id": "7d6ec94f-9c93-4178-9b25-89624e06617b",
   "metadata": {},
   "outputs": [
    {
     "data": {
      "text/plain": [
       "(3678, 3)"
      ]
     },
     "execution_count": 267,
     "metadata": {},
     "output_type": "execute_result"
    }
   ],
   "source": [
    "movie.shape"
   ]
  },
  {
   "cell_type": "code",
   "execution_count": 270,
   "id": "81b5d521-6072-4cc6-815b-3d836b424dd7",
   "metadata": {},
   "outputs": [],
   "source": [
    "movie = movie.loc[movie.lang_idf == 'en']"
   ]
  },
  {
   "cell_type": "code",
   "execution_count": 271,
   "id": "04b35c70-1b1e-4dfa-8f6d-72355726fff5",
   "metadata": {},
   "outputs": [
    {
     "data": {
      "text/plain": [
       "(3544, 4)"
      ]
     },
     "execution_count": 271,
     "metadata": {},
     "output_type": "execute_result"
    }
   ],
   "source": [
    "movie.shape"
   ]
  },
  {
   "cell_type": "code",
   "execution_count": 268,
   "id": "51b02090-fb20-4e69-b7b0-a6a7a15e6f76",
   "metadata": {},
   "outputs": [],
   "source": [
    "movie = prepare_text(movie)"
   ]
  },
  {
   "cell_type": "code",
   "execution_count": 272,
   "id": "01e5a19d-e6d9-46e2-9976-9b73e6afe586",
   "metadata": {},
   "outputs": [
    {
     "data": {
      "text/html": [
       "<div>\n",
       "<style scoped>\n",
       "    .dataframe tbody tr th:only-of-type {\n",
       "        vertical-align: middle;\n",
       "    }\n",
       "\n",
       "    .dataframe tbody tr th {\n",
       "        vertical-align: top;\n",
       "    }\n",
       "\n",
       "    .dataframe thead th {\n",
       "        text-align: right;\n",
       "    }\n",
       "</style>\n",
       "<table border=\"1\" class=\"dataframe\">\n",
       "  <thead>\n",
       "    <tr style=\"text-align: right;\">\n",
       "      <th></th>\n",
       "      <th>rotten_tomatoes_link</th>\n",
       "      <th>review_content</th>\n",
       "      <th>lang_idf</th>\n",
       "      <th>prepared_review_content</th>\n",
       "    </tr>\n",
       "  </thead>\n",
       "  <tbody>\n",
       "    <tr>\n",
       "      <th>0</th>\n",
       "      <td>m/mother_2017</td>\n",
       "      <td>An intense, gorgeous and brilliant allegory. I...</td>\n",
       "      <td>en</td>\n",
       "      <td>intense , gorgeous brilliant allegory . little...</td>\n",
       "    </tr>\n",
       "    <tr>\n",
       "      <th>1</th>\n",
       "      <td>m/mother_2017</td>\n",
       "      <td>too literal. lacks any kind of nuance. lacks c...</td>\n",
       "      <td>en</td>\n",
       "      <td>literal . lack kind nuance . lack creativity e...</td>\n",
       "    </tr>\n",
       "    <tr>\n",
       "      <th>2</th>\n",
       "      <td>m/mother_2017</td>\n",
       "      <td>As though as it is to watch and understand, it...</td>\n",
       "      <td>en</td>\n",
       "      <td>watch understand , brilliantly direct think .</td>\n",
       "    </tr>\n",
       "    <tr>\n",
       "      <th>3</th>\n",
       "      <td>m/mother_2017</td>\n",
       "      <td>This movie had me pissed off for 2 hours. Thou...</td>\n",
       "      <td>en</td>\n",
       "      <td>movie piss 2 hour . thought ending massively g...</td>\n",
       "    </tr>\n",
       "    <tr>\n",
       "      <th>4</th>\n",
       "      <td>m/mother_2017</td>\n",
       "      <td>Mother! Is frustrating, stupidly surrealistic ...</td>\n",
       "      <td>en</td>\n",
       "      <td>mother ! frustrating , stupidly surrealistic d...</td>\n",
       "    </tr>\n",
       "    <tr>\n",
       "      <th>6</th>\n",
       "      <td>m/mother_2017</td>\n",
       "      <td>The most remarkable thing about this film is J...</td>\n",
       "      <td>en</td>\n",
       "      <td>remarkable thing film Jennifer Lawrence perfor...</td>\n",
       "    </tr>\n",
       "    <tr>\n",
       "      <th>7</th>\n",
       "      <td>m/mother_2017</td>\n",
       "      <td>This is very strange, confused me, in general ...</td>\n",
       "      <td>en</td>\n",
       "      <td>strange , confuse , general know like .</td>\n",
       "    </tr>\n",
       "    <tr>\n",
       "      <th>8</th>\n",
       "      <td>m/mother_2017</td>\n",
       "      <td>Everything in this movie is symbolic. You thin...</td>\n",
       "      <td>en</td>\n",
       "      <td>movie symbolic . think go sense , . movie stre...</td>\n",
       "    </tr>\n",
       "    <tr>\n",
       "      <th>9</th>\n",
       "      <td>m/mother_2017</td>\n",
       "      <td>It is WILD ride, while also depressing.</td>\n",
       "      <td>en</td>\n",
       "      <td>wild ride , depressing .</td>\n",
       "    </tr>\n",
       "    <tr>\n",
       "      <th>10</th>\n",
       "      <td>m/mother_2017</td>\n",
       "      <td>Fuck it. They are playing with our emotions. W...</td>\n",
       "      <td>en</td>\n",
       "      <td>fuck . play emotion . bad movie see entire lif...</td>\n",
       "    </tr>\n",
       "  </tbody>\n",
       "</table>\n",
       "</div>"
      ],
      "text/plain": [
       "   rotten_tomatoes_link                                     review_content  \\\n",
       "0         m/mother_2017  An intense, gorgeous and brilliant allegory. I...   \n",
       "1         m/mother_2017  too literal. lacks any kind of nuance. lacks c...   \n",
       "2         m/mother_2017  As though as it is to watch and understand, it...   \n",
       "3         m/mother_2017  This movie had me pissed off for 2 hours. Thou...   \n",
       "4         m/mother_2017  Mother! Is frustrating, stupidly surrealistic ...   \n",
       "6         m/mother_2017  The most remarkable thing about this film is J...   \n",
       "7         m/mother_2017  This is very strange, confused me, in general ...   \n",
       "8         m/mother_2017  Everything in this movie is symbolic. You thin...   \n",
       "9         m/mother_2017            It is WILD ride, while also depressing.   \n",
       "10        m/mother_2017  Fuck it. They are playing with our emotions. W...   \n",
       "\n",
       "   lang_idf                            prepared_review_content  \n",
       "0        en  intense , gorgeous brilliant allegory . little...  \n",
       "1        en  literal . lack kind nuance . lack creativity e...  \n",
       "2        en      watch understand , brilliantly direct think .  \n",
       "3        en  movie piss 2 hour . thought ending massively g...  \n",
       "4        en  mother ! frustrating , stupidly surrealistic d...  \n",
       "6        en  remarkable thing film Jennifer Lawrence perfor...  \n",
       "7        en            strange , confuse , general know like .  \n",
       "8        en  movie symbolic . think go sense , . movie stre...  \n",
       "9        en                           wild ride , depressing .  \n",
       "10       en  fuck . play emotion . bad movie see entire lif...  "
      ]
     },
     "execution_count": 272,
     "metadata": {},
     "output_type": "execute_result"
    }
   ],
   "source": [
    "movie.head(10)"
   ]
  },
  {
   "cell_type": "code",
   "execution_count": 274,
   "id": "b442a617-720d-45d1-8325-5a17f035f7b4",
   "metadata": {},
   "outputs": [
    {
     "name": "stderr",
     "output_type": "stream",
     "text": [
      "C:\\Users\\barbara.oliveira\\AppData\\Local\\Temp\\ipykernel_30292\\1996527716.py:1: SettingWithCopyWarning: \n",
      "A value is trying to be set on a copy of a slice from a DataFrame.\n",
      "Try using .loc[row_indexer,col_indexer] = value instead\n",
      "\n",
      "See the caveats in the documentation: https://pandas.pydata.org/pandas-docs/stable/user_guide/indexing.html#returning-a-view-versus-a-copy\n",
      "  movie['class_pred'] = class_reglog.predict(movie['prepared_review_content'])\n"
     ]
    }
   ],
   "source": [
    "movie['class_pred'] = class_reglog.predict(movie['prepared_review_content'])"
   ]
  },
  {
   "cell_type": "code",
   "execution_count": 276,
   "id": "359baf94-ccea-460f-8b43-752fe23f1450",
   "metadata": {},
   "outputs": [
    {
     "data": {
      "text/html": [
       "<div>\n",
       "<style scoped>\n",
       "    .dataframe tbody tr th:only-of-type {\n",
       "        vertical-align: middle;\n",
       "    }\n",
       "\n",
       "    .dataframe tbody tr th {\n",
       "        vertical-align: top;\n",
       "    }\n",
       "\n",
       "    .dataframe thead th {\n",
       "        text-align: right;\n",
       "    }\n",
       "</style>\n",
       "<table border=\"1\" class=\"dataframe\">\n",
       "  <thead>\n",
       "    <tr style=\"text-align: right;\">\n",
       "      <th></th>\n",
       "      <th>rotten_tomatoes_link</th>\n",
       "      <th>review_content</th>\n",
       "      <th>lang_idf</th>\n",
       "      <th>prepared_review_content</th>\n",
       "      <th>class_pred</th>\n",
       "    </tr>\n",
       "  </thead>\n",
       "  <tbody>\n",
       "    <tr>\n",
       "      <th>0</th>\n",
       "      <td>m/mother_2017</td>\n",
       "      <td>An intense, gorgeous and brilliant allegory. I...</td>\n",
       "      <td>en</td>\n",
       "      <td>intense , gorgeous brilliant allegory . little...</td>\n",
       "      <td>Fresh</td>\n",
       "    </tr>\n",
       "    <tr>\n",
       "      <th>1</th>\n",
       "      <td>m/mother_2017</td>\n",
       "      <td>too literal. lacks any kind of nuance. lacks c...</td>\n",
       "      <td>en</td>\n",
       "      <td>literal . lack kind nuance . lack creativity e...</td>\n",
       "      <td>Rotten</td>\n",
       "    </tr>\n",
       "    <tr>\n",
       "      <th>2</th>\n",
       "      <td>m/mother_2017</td>\n",
       "      <td>As though as it is to watch and understand, it...</td>\n",
       "      <td>en</td>\n",
       "      <td>watch understand , brilliantly direct think .</td>\n",
       "      <td>Fresh</td>\n",
       "    </tr>\n",
       "    <tr>\n",
       "      <th>3</th>\n",
       "      <td>m/mother_2017</td>\n",
       "      <td>This movie had me pissed off for 2 hours. Thou...</td>\n",
       "      <td>en</td>\n",
       "      <td>movie piss 2 hour . thought ending massively g...</td>\n",
       "      <td>Rotten</td>\n",
       "    </tr>\n",
       "    <tr>\n",
       "      <th>4</th>\n",
       "      <td>m/mother_2017</td>\n",
       "      <td>Mother! Is frustrating, stupidly surrealistic ...</td>\n",
       "      <td>en</td>\n",
       "      <td>mother ! frustrating , stupidly surrealistic d...</td>\n",
       "      <td>Fresh</td>\n",
       "    </tr>\n",
       "    <tr>\n",
       "      <th>6</th>\n",
       "      <td>m/mother_2017</td>\n",
       "      <td>The most remarkable thing about this film is J...</td>\n",
       "      <td>en</td>\n",
       "      <td>remarkable thing film Jennifer Lawrence perfor...</td>\n",
       "      <td>Fresh</td>\n",
       "    </tr>\n",
       "    <tr>\n",
       "      <th>7</th>\n",
       "      <td>m/mother_2017</td>\n",
       "      <td>This is very strange, confused me, in general ...</td>\n",
       "      <td>en</td>\n",
       "      <td>strange , confuse , general know like .</td>\n",
       "      <td>Rotten</td>\n",
       "    </tr>\n",
       "    <tr>\n",
       "      <th>8</th>\n",
       "      <td>m/mother_2017</td>\n",
       "      <td>Everything in this movie is symbolic. You thin...</td>\n",
       "      <td>en</td>\n",
       "      <td>movie symbolic . think go sense , . movie stre...</td>\n",
       "      <td>Rotten</td>\n",
       "    </tr>\n",
       "    <tr>\n",
       "      <th>9</th>\n",
       "      <td>m/mother_2017</td>\n",
       "      <td>It is WILD ride, while also depressing.</td>\n",
       "      <td>en</td>\n",
       "      <td>wild ride , depressing .</td>\n",
       "      <td>Fresh</td>\n",
       "    </tr>\n",
       "    <tr>\n",
       "      <th>10</th>\n",
       "      <td>m/mother_2017</td>\n",
       "      <td>Fuck it. They are playing with our emotions. W...</td>\n",
       "      <td>en</td>\n",
       "      <td>fuck . play emotion . bad movie see entire lif...</td>\n",
       "      <td>Rotten</td>\n",
       "    </tr>\n",
       "  </tbody>\n",
       "</table>\n",
       "</div>"
      ],
      "text/plain": [
       "   rotten_tomatoes_link                                     review_content  \\\n",
       "0         m/mother_2017  An intense, gorgeous and brilliant allegory. I...   \n",
       "1         m/mother_2017  too literal. lacks any kind of nuance. lacks c...   \n",
       "2         m/mother_2017  As though as it is to watch and understand, it...   \n",
       "3         m/mother_2017  This movie had me pissed off for 2 hours. Thou...   \n",
       "4         m/mother_2017  Mother! Is frustrating, stupidly surrealistic ...   \n",
       "6         m/mother_2017  The most remarkable thing about this film is J...   \n",
       "7         m/mother_2017  This is very strange, confused me, in general ...   \n",
       "8         m/mother_2017  Everything in this movie is symbolic. You thin...   \n",
       "9         m/mother_2017            It is WILD ride, while also depressing.   \n",
       "10        m/mother_2017  Fuck it. They are playing with our emotions. W...   \n",
       "\n",
       "   lang_idf                            prepared_review_content class_pred  \n",
       "0        en  intense , gorgeous brilliant allegory . little...      Fresh  \n",
       "1        en  literal . lack kind nuance . lack creativity e...     Rotten  \n",
       "2        en      watch understand , brilliantly direct think .      Fresh  \n",
       "3        en  movie piss 2 hour . thought ending massively g...     Rotten  \n",
       "4        en  mother ! frustrating , stupidly surrealistic d...      Fresh  \n",
       "6        en  remarkable thing film Jennifer Lawrence perfor...      Fresh  \n",
       "7        en            strange , confuse , general know like .     Rotten  \n",
       "8        en  movie symbolic . think go sense , . movie stre...     Rotten  \n",
       "9        en                           wild ride , depressing .      Fresh  \n",
       "10       en  fuck . play emotion . bad movie see entire lif...     Rotten  "
      ]
     },
     "execution_count": 276,
     "metadata": {},
     "output_type": "execute_result"
    }
   ],
   "source": [
    "movie.head(10)"
   ]
  },
  {
   "cell_type": "code",
   "execution_count": 277,
   "id": "3b93f3ad-9a9a-4d2b-ba4c-37862fbb58a3",
   "metadata": {},
   "outputs": [
    {
     "data": {
      "text/plain": [
       "Rotten    1941\n",
       "Fresh     1603\n",
       "Name: class_pred, dtype: int64"
      ]
     },
     "execution_count": 277,
     "metadata": {},
     "output_type": "execute_result"
    }
   ],
   "source": [
    "movie.class_pred.value_counts()"
   ]
  },
  {
   "cell_type": "code",
   "execution_count": 279,
   "id": "542ad9bf-6e4b-4f6b-8e41-a99b5f9a27c6",
   "metadata": {},
   "outputs": [
    {
     "data": {
      "text/plain": [
       "<AxesSubplot:ylabel='class_pred'>"
      ]
     },
     "execution_count": 279,
     "metadata": {},
     "output_type": "execute_result"
    },
    {
     "data": {
      "image/png": "[encoded data removed]",
      "text/plain": [
       "<Figure size 432x288 with 1 Axes>"
      ]
     },
     "metadata": {},
     "output_type": "display_data"
    }
   ],
   "source": [
    "movie.class_pred.value_counts().plot(kind='pie', autopct='%1.1f%%')"
   ]
  },
  {
   "cell_type": "code",
   "execution_count": 335,
   "id": "4983639e-981a-4512-9cf9-8e7598fd4abf",
   "metadata": {},
   "outputs": [
    {
     "data": {
      "text/html": [
       "<div>\n",
       "<style scoped>\n",
       "    .dataframe tbody tr th:only-of-type {\n",
       "        vertical-align: middle;\n",
       "    }\n",
       "\n",
       "    .dataframe tbody tr th {\n",
       "        vertical-align: top;\n",
       "    }\n",
       "\n",
       "    .dataframe thead th {\n",
       "        text-align: right;\n",
       "    }\n",
       "</style>\n",
       "<table border=\"1\" class=\"dataframe\">\n",
       "  <thead>\n",
       "    <tr style=\"text-align: right;\">\n",
       "      <th></th>\n",
       "      <th>review_content</th>\n",
       "      <th>prepared_review_content</th>\n",
       "    </tr>\n",
       "  </thead>\n",
       "  <tbody>\n",
       "    <tr>\n",
       "      <th>69</th>\n",
       "      <td>I hated it. It was one of the worst horror mov...</td>\n",
       "      <td>hate . bad horror movie watch , pointless , bo...</td>\n",
       "    </tr>\n",
       "    <tr>\n",
       "      <th>2061</th>\n",
       "      <td>Worst Movie Ever ! no plot, pretencious, try t...</td>\n",
       "      <td>bad Movie ! plot , pretencious , try deep end ...</td>\n",
       "    </tr>\n",
       "    <tr>\n",
       "      <th>2067</th>\n",
       "      <td>Worst movie of all time. Almost tied with Noah...</td>\n",
       "      <td>bad movie time . tie Noah ... ending happen . ...</td>\n",
       "    </tr>\n",
       "    <tr>\n",
       "      <th>2070</th>\n",
       "      <td>Worst movie i ve ever seen!  The end of Jennif...</td>\n",
       "      <td>bad movie ve see !   end Jennifer Lawrence car...</td>\n",
       "    </tr>\n",
       "  </tbody>\n",
       "</table>\n",
       "</div>"
      ],
      "text/plain": [
       "                                         review_content  \\\n",
       "69    I hated it. It was one of the worst horror mov...   \n",
       "2061  Worst Movie Ever ! no plot, pretencious, try t...   \n",
       "2067  Worst movie of all time. Almost tied with Noah...   \n",
       "2070  Worst movie i ve ever seen!  The end of Jennif...   \n",
       "\n",
       "                                prepared_review_content  \n",
       "69    hate . bad horror movie watch , pointless , bo...  \n",
       "2061  bad Movie ! plot , pretencious , try deep end ...  \n",
       "2067  bad movie time . tie Noah ... ending happen . ...  \n",
       "2070  bad movie ve see !   end Jennifer Lawrence car...  "
      ]
     },
     "execution_count": 335,
     "metadata": {},
     "output_type": "execute_result"
    }
   ],
   "source": [
    "movie.loc[movie.class_pred == \"Rotten\"][[\"review_content\", \"prepared_review_content\"]].iloc[[37,1000,1002,1004]]"
   ]
  },
  {
   "cell_type": "code",
   "execution_count": 280,
   "id": "e43cbcc8-4920-499a-b987-2451e452b686",
   "metadata": {},
   "outputs": [],
   "source": [
    "movie.to_csv(os.path.join(files_path, \"user_reviews_mother_classified.csv\"))"
   ]
  }
 ],
 "metadata": {
  "colab": {
   "collapsed_sections": [
    "9e881989"
   ],
   "name": "Cópia de Movie Classification.ipynb",
   "provenance": []
  },
  "kernelspec": {
   "display_name": "Python 3 (ipykernel)",
   "language": "python",
   "name": "python3"
  },
  "language_info": {
   "codemirror_mode": {
    "name": "ipython",
    "version": 3
   },
   "file_extension": ".py",
   "mimetype": "text/x-python",
   "name": "python",
   "nbconvert_exporter": "python",
   "pygments_lexer": "ipython3",
   "version": "3.10.2"
  }
 },
 "nbformat": 4,
 "nbformat_minor": 5
}
