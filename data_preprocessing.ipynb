{
 "cells": [
  {
   "cell_type": "code",
   "execution_count": 2,
   "id": "73f8988f-07e9-4073-9296-15ec7e079b54",
   "metadata": {
    "id": "407babe6",
    "scrolled": true
   },
   "outputs": [],
   "source": [
    "import pandas as pd\n",
    "import numpy as np\n",
    "import matplotlib.pyplot as plt\n",
    "import seaborn as sns\n",
    "import os\n",
    "\n",
    "sns.set_palette('rainbow',8, 0.45)"
   ]
  },
  {
   "cell_type": "code",
   "execution_count": 3,
   "id": "4351e0c0-5477-4c57-95ce-78022057d566",
   "metadata": {
    "id": "095f22e6"
   },
   "outputs": [],
   "source": [
    "# para rodar local\n",
    "files_path = 'Files'"
   ]
  },
  {
   "cell_type": "code",
   "execution_count": 4,
   "id": "0d0f7857-877b-4f3b-8de4-17e7792b9319",
   "metadata": {
    "id": "2824af4a"
   },
   "outputs": [],
   "source": [
    "# para carregar datasets local\n",
    "rt_movies = pd.read_csv(os.path.join(files_path, \"rotten_tomatoes_movies.csv\"))\n",
    "rt_reviews = pd.read_csv(os.path.join(files_path, \"rotten_tomatoes_critic_reviews.csv\"))"
   ]
  },
  {
   "cell_type": "code",
   "execution_count": 2,
   "id": "bcf13d3a-2a79-46f2-9803-e7b68641d559",
   "metadata": {
    "id": "XVsLCkbZnCdB"
   },
   "outputs": [],
   "source": [
    "# para carregar dados do Movies dataset do github\n",
    "url = \"https://media.githubusercontent.com/media/BarbaraOlive/tcc_env/main/Files/rotten_tomatoes_movies.csv\"\n",
    "rt_movies = pd.read_csv(url)"
   ]
  },
  {
   "cell_type": "code",
   "execution_count": 3,
   "id": "09441063-0f85-47c5-868d-12fb842e11aa",
   "metadata": {
    "id": "weFMyUbSELWk"
   },
   "outputs": [],
   "source": [
    "# para carregar dados do Reviews dataset do github\n",
    "url = \"https://media.githubusercontent.com/media/BarbaraOlive/tcc_env/main/Files/rotten_tomatoes_critic_reviews.csv\"\n",
    "rt_reviews = pd.read_csv(url)"
   ]
  },
  {
   "cell_type": "markdown",
   "id": "ead72e46-6211-4403-a67e-87be5b14d96c",
   "metadata": {
    "id": "b37501c2",
    "tags": []
   },
   "source": [
    "## Análise Exploratória"
   ]
  },
  {
   "cell_type": "markdown",
   "id": "80c58ff0-13b3-46a5-a025-c00796f3424c",
   "metadata": {
    "tags": []
   },
   "source": [
    "### Movies Dataset"
   ]
  },
  {
   "cell_type": "code",
   "execution_count": 4,
   "id": "dbb97f47-6879-44ec-85f2-4e27759bbf60",
   "metadata": {
    "colab": {
     "base_uri": "https://localhost:8080/",
     "height": 396
    },
    "id": "602479e5",
    "outputId": "3fe27aa8-cf6c-45d9-d046-02fe9027f8d3",
    "scrolled": true
   },
   "outputs": [
    {
     "data": {
      "text/html": [
       "<div>\n",
       "<style scoped>\n",
       "    .dataframe tbody tr th:only-of-type {\n",
       "        vertical-align: middle;\n",
       "    }\n",
       "\n",
       "    .dataframe tbody tr th {\n",
       "        vertical-align: top;\n",
       "    }\n",
       "\n",
       "    .dataframe thead th {\n",
       "        text-align: right;\n",
       "    }\n",
       "</style>\n",
       "<table border=\"1\" class=\"dataframe\">\n",
       "  <thead>\n",
       "    <tr style=\"text-align: right;\">\n",
       "      <th></th>\n",
       "      <th>rotten_tomatoes_link</th>\n",
       "      <th>movie_title</th>\n",
       "      <th>movie_info</th>\n",
       "      <th>critics_consensus</th>\n",
       "      <th>content_rating</th>\n",
       "      <th>genres</th>\n",
       "      <th>directors</th>\n",
       "      <th>authors</th>\n",
       "      <th>actors</th>\n",
       "      <th>original_release_date</th>\n",
       "      <th>...</th>\n",
       "      <th>production_company</th>\n",
       "      <th>tomatometer_status</th>\n",
       "      <th>tomatometer_rating</th>\n",
       "      <th>tomatometer_count</th>\n",
       "      <th>audience_status</th>\n",
       "      <th>audience_rating</th>\n",
       "      <th>audience_count</th>\n",
       "      <th>tomatometer_top_critics_count</th>\n",
       "      <th>tomatometer_fresh_critics_count</th>\n",
       "      <th>tomatometer_rotten_critics_count</th>\n",
       "    </tr>\n",
       "  </thead>\n",
       "  <tbody>\n",
       "    <tr>\n",
       "      <th>0</th>\n",
       "      <td>m/0814255</td>\n",
       "      <td>Percy Jackson &amp; the Olympians: The Lightning T...</td>\n",
       "      <td>Always trouble-prone, the life of teenager Per...</td>\n",
       "      <td>Though it may seem like just another Harry Pot...</td>\n",
       "      <td>PG</td>\n",
       "      <td>Action &amp; Adventure, Comedy, Drama, Science Fic...</td>\n",
       "      <td>Chris Columbus</td>\n",
       "      <td>Craig Titley, Chris Columbus, Rick Riordan</td>\n",
       "      <td>Logan Lerman, Brandon T. Jackson, Alexandra Da...</td>\n",
       "      <td>2010-02-12</td>\n",
       "      <td>...</td>\n",
       "      <td>20th Century Fox</td>\n",
       "      <td>Rotten</td>\n",
       "      <td>49.0</td>\n",
       "      <td>149.0</td>\n",
       "      <td>Spilled</td>\n",
       "      <td>53.0</td>\n",
       "      <td>254421.0</td>\n",
       "      <td>43</td>\n",
       "      <td>73</td>\n",
       "      <td>76</td>\n",
       "    </tr>\n",
       "    <tr>\n",
       "      <th>1</th>\n",
       "      <td>m/0878835</td>\n",
       "      <td>Please Give</td>\n",
       "      <td>Kate (Catherine Keener) and her husband Alex (...</td>\n",
       "      <td>Nicole Holofcener's newest might seem slight i...</td>\n",
       "      <td>R</td>\n",
       "      <td>Comedy</td>\n",
       "      <td>Nicole Holofcener</td>\n",
       "      <td>Nicole Holofcener</td>\n",
       "      <td>Catherine Keener, Amanda Peet, Oliver Platt, R...</td>\n",
       "      <td>2010-04-30</td>\n",
       "      <td>...</td>\n",
       "      <td>Sony Pictures Classics</td>\n",
       "      <td>Certified-Fresh</td>\n",
       "      <td>87.0</td>\n",
       "      <td>142.0</td>\n",
       "      <td>Upright</td>\n",
       "      <td>64.0</td>\n",
       "      <td>11574.0</td>\n",
       "      <td>44</td>\n",
       "      <td>123</td>\n",
       "      <td>19</td>\n",
       "    </tr>\n",
       "  </tbody>\n",
       "</table>\n",
       "<p>2 rows × 22 columns</p>\n",
       "</div>"
      ],
      "text/plain": [
       "  rotten_tomatoes_link                                        movie_title  \\\n",
       "0            m/0814255  Percy Jackson & the Olympians: The Lightning T...   \n",
       "1            m/0878835                                        Please Give   \n",
       "\n",
       "                                          movie_info  \\\n",
       "0  Always trouble-prone, the life of teenager Per...   \n",
       "1  Kate (Catherine Keener) and her husband Alex (...   \n",
       "\n",
       "                                   critics_consensus content_rating  \\\n",
       "0  Though it may seem like just another Harry Pot...             PG   \n",
       "1  Nicole Holofcener's newest might seem slight i...              R   \n",
       "\n",
       "                                              genres          directors  \\\n",
       "0  Action & Adventure, Comedy, Drama, Science Fic...     Chris Columbus   \n",
       "1                                             Comedy  Nicole Holofcener   \n",
       "\n",
       "                                      authors  \\\n",
       "0  Craig Titley, Chris Columbus, Rick Riordan   \n",
       "1                           Nicole Holofcener   \n",
       "\n",
       "                                              actors original_release_date  \\\n",
       "0  Logan Lerman, Brandon T. Jackson, Alexandra Da...            2010-02-12   \n",
       "1  Catherine Keener, Amanda Peet, Oliver Platt, R...            2010-04-30   \n",
       "\n",
       "   ...      production_company  tomatometer_status tomatometer_rating  \\\n",
       "0  ...        20th Century Fox              Rotten               49.0   \n",
       "1  ...  Sony Pictures Classics     Certified-Fresh               87.0   \n",
       "\n",
       "  tomatometer_count  audience_status  audience_rating audience_count  \\\n",
       "0             149.0          Spilled             53.0       254421.0   \n",
       "1             142.0          Upright             64.0        11574.0   \n",
       "\n",
       "   tomatometer_top_critics_count  tomatometer_fresh_critics_count  \\\n",
       "0                             43                               73   \n",
       "1                             44                              123   \n",
       "\n",
       "   tomatometer_rotten_critics_count  \n",
       "0                                76  \n",
       "1                                19  \n",
       "\n",
       "[2 rows x 22 columns]"
      ]
     },
     "execution_count": 4,
     "metadata": {},
     "output_type": "execute_result"
    }
   ],
   "source": [
    "rt_movies.head(2)"
   ]
  },
  {
   "cell_type": "code",
   "execution_count": 5,
   "id": "f64942fa-c51c-45f1-a8c6-a93c10b5c434",
   "metadata": {
    "colab": {
     "base_uri": "https://localhost:8080/"
    },
    "id": "8011e86b",
    "outputId": "5c5efed3-4972-4484-e1a7-e85f5746d88d"
   },
   "outputs": [
    {
     "data": {
      "text/plain": [
       "(17712, 22)"
      ]
     },
     "execution_count": 5,
     "metadata": {},
     "output_type": "execute_result"
    }
   ],
   "source": [
    "rt_movies.shape"
   ]
  },
  {
   "cell_type": "code",
   "execution_count": 6,
   "id": "eecb0745-5853-4093-83a8-78c31f4bbd00",
   "metadata": {
    "colab": {
     "base_uri": "https://localhost:8080/"
    },
    "id": "82c31ced-ba05-4a69-aa43-f2dd6dd8b239",
    "outputId": "a351c808-7bf5-46d4-fe89-ef1eaa456674"
   },
   "outputs": [
    {
     "data": {
      "text/plain": [
       "(1130017, 8)"
      ]
     },
     "execution_count": 6,
     "metadata": {},
     "output_type": "execute_result"
    }
   ],
   "source": [
    "rt_reviews.shape"
   ]
  },
  {
   "cell_type": "code",
   "execution_count": 7,
   "id": "5d88f990-2156-4319-85a1-5be2aa097bea",
   "metadata": {
    "colab": {
     "base_uri": "https://localhost:8080/"
    },
    "id": "9357c4c5-7ce4-40cd-8d5e-df0a8e8e7206",
    "outputId": "df630c28-5dc4-4dda-b811-ef0bab0cd8a0"
   },
   "outputs": [
    {
     "data": {
      "text/plain": [
       "17712"
      ]
     },
     "execution_count": 7,
     "metadata": {},
     "output_type": "execute_result"
    }
   ],
   "source": [
    "rt_movies.rotten_tomatoes_link.nunique()"
   ]
  },
  {
   "cell_type": "code",
   "execution_count": 8,
   "id": "1c8bbc1b-45d0-43e9-be76-8a03f00b6e35",
   "metadata": {
    "colab": {
     "base_uri": "https://localhost:8080/"
    },
    "id": "b3a3171d-87e1-41c8-a3f4-2c1e21041fa7",
    "outputId": "38a17852-f2f0-40a1-f244-4f5cdc1ed424"
   },
   "outputs": [
    {
     "data": {
      "text/plain": [
       "17712"
      ]
     },
     "execution_count": 8,
     "metadata": {},
     "output_type": "execute_result"
    }
   ],
   "source": [
    "rt_reviews.rotten_tomatoes_link.nunique()"
   ]
  },
  {
   "cell_type": "code",
   "execution_count": 9,
   "id": "ee4f098e-8403-4d66-9076-f0f86050a0f8",
   "metadata": {
    "colab": {
     "base_uri": "https://localhost:8080/"
    },
    "id": "40fe0791-a5cd-45e1-8762-ee0c986e4616",
    "outputId": "9094ff14-2c4f-4925-c54a-822a025049cc"
   },
   "outputs": [
    {
     "data": {
      "text/plain": [
       "rotten_tomatoes_link\n",
       "m/star_wars_the_rise_of_skywalker            992\n",
       "m/solo_a_star_wars_story                     948\n",
       "m/star_wars_the_last_jedi                    946\n",
       "m/rogue_one_a_star_wars_story                892\n",
       "m/spider_man_far_from_home                   880\n",
       "m/star_wars_episode_vii_the_force_awakens    874\n",
       "m/ready_player_one                           866\n",
       "m/shazam                                     806\n",
       "m/spider_man_homecoming                      780\n",
       "m/roma_2018                                  774\n",
       "Name: review_content, dtype: int64"
      ]
     },
     "execution_count": 9,
     "metadata": {},
     "output_type": "execute_result"
    }
   ],
   "source": [
    "rt_reviews.groupby([\"rotten_tomatoes_link\"])[\"review_content\"].count().sort_values(ascending=False).head(10)"
   ]
  },
  {
   "cell_type": "code",
   "execution_count": 10,
   "id": "0e9b1cd0-a4b4-44d9-8f8d-025c2c4490c2",
   "metadata": {
    "colab": {
     "base_uri": "https://localhost:8080/"
    },
    "id": "e0ea5b22",
    "outputId": "1e9141e6-6f0c-40ac-f853-b05460509cd2"
   },
   "outputs": [
    {
     "data": {
      "text/plain": [
       "rotten_tomatoes_link                   0\n",
       "movie_title                            0\n",
       "movie_info                           321\n",
       "critics_consensus                   8578\n",
       "content_rating                         0\n",
       "genres                                19\n",
       "directors                            194\n",
       "authors                             1542\n",
       "actors                               352\n",
       "original_release_date               1166\n",
       "streaming_release_date               384\n",
       "runtime                              314\n",
       "production_company                   499\n",
       "tomatometer_status                    44\n",
       "tomatometer_rating                    44\n",
       "tomatometer_count                     44\n",
       "audience_status                      448\n",
       "audience_rating                      296\n",
       "audience_count                       297\n",
       "tomatometer_top_critics_count          0\n",
       "tomatometer_fresh_critics_count        0\n",
       "tomatometer_rotten_critics_count       0\n",
       "dtype: int64"
      ]
     },
     "execution_count": 10,
     "metadata": {},
     "output_type": "execute_result"
    }
   ],
   "source": [
    "rt_movies.isnull().sum()"
   ]
  },
  {
   "cell_type": "code",
   "execution_count": 11,
   "id": "f28edca5-a779-480d-9736-48295e1778ca",
   "metadata": {
    "colab": {
     "base_uri": "https://localhost:8080/"
    },
    "id": "ad90bc1a",
    "outputId": "a874f17f-1146-416d-c272-4c4c4ce7b4fd"
   },
   "outputs": [
    {
     "data": {
      "text/plain": [
       "R        6377\n",
       "NR       5474\n",
       "PG-13    2979\n",
       "PG       2168\n",
       "G         676\n",
       "NC17       38\n",
       "Name: content_rating, dtype: int64"
      ]
     },
     "execution_count": 11,
     "metadata": {},
     "output_type": "execute_result"
    }
   ],
   "source": [
    "rt_movies.content_rating.value_counts()"
   ]
  },
  {
   "cell_type": "code",
   "execution_count": 12,
   "id": "66c56127-4462-4201-a77d-d634cb89036f",
   "metadata": {
    "colab": {
     "base_uri": "https://localhost:8080/"
    },
    "id": "4bd1d4ea-b6d8-4947-bdf9-ce857f10bb15",
    "outputId": "0dd61f88-0763-492b-aa6e-52fd93da34f8"
   },
   "outputs": [
    {
     "data": {
      "text/plain": [
       "Rotten             7565\n",
       "Fresh              6844\n",
       "Certified-Fresh    3259\n",
       "Name: tomatometer_status, dtype: int64"
      ]
     },
     "execution_count": 12,
     "metadata": {},
     "output_type": "execute_result"
    }
   ],
   "source": [
    "rt_movies.tomatometer_status.value_counts()"
   ]
  },
  {
   "cell_type": "code",
   "execution_count": 13,
   "id": "452ee227-0107-4532-8cb9-089c6388dae2",
   "metadata": {
    "colab": {
     "base_uri": "https://localhost:8080/",
     "height": 265
    },
    "id": "wDtYZb_cGdy5",
    "outputId": "4fe8e921-bb06-416a-a162-1fe7cc491c27"
   },
   "outputs": [
    {
     "data": {
      "text/plain": [
       "<AxesSubplot:ylabel='tomatometer_status'>"
      ]
     },
     "execution_count": 13,
     "metadata": {},
     "output_type": "execute_result"
    },
    {
     "data": {
      "image/png": "[encoded data removed]",
      "text/plain": [
       "<Figure size 432x288 with 1 Axes>"
      ]
     },
     "metadata": {},
     "output_type": "display_data"
    }
   ],
   "source": [
    "rt_movies.tomatometer_status.value_counts().plot(kind='pie', autopct='%1.1f%%')"
   ]
  },
  {
   "cell_type": "code",
   "execution_count": 14,
   "id": "566b1cb5-88b5-4f88-947c-c9caaa32ae27",
   "metadata": {
    "colab": {
     "base_uri": "https://localhost:8080/"
    },
    "id": "ab7c2063",
    "outputId": "878fbe7b-d632-4048-c96b-cf7cd5c58366"
   },
   "outputs": [
    {
     "data": {
      "text/plain": [
       "Drama                                                                                  1887\n",
       "Comedy                                                                                 1263\n",
       "Comedy, Drama                                                                           863\n",
       "Drama, Mystery & Suspense                                                               731\n",
       "Art House & International, Drama                                                        589\n",
       "                                                                                       ... \n",
       "Art House & International, Classics, Cult Movies, Horror, Science Fiction & Fantasy       1\n",
       "Action & Adventure, Cult Movies, Drama, Science Fiction & Fantasy                         1\n",
       "Art House & International, Documentary, Sports & Fitness                                  1\n",
       "Action & Adventure, Drama, Mystery & Suspense, Special Interest                           1\n",
       "Action & Adventure, Drama, Horror, Kids & Family, Mystery & Suspense                      1\n",
       "Name: genres, Length: 1106, dtype: int64"
      ]
     },
     "execution_count": 14,
     "metadata": {},
     "output_type": "execute_result"
    }
   ],
   "source": [
    "rt_movies.genres.value_counts()"
   ]
  },
  {
   "cell_type": "code",
   "execution_count": 12,
   "id": "0d1a5979-10c7-474e-9a87-767581ab1d58",
   "metadata": {
    "id": "699b1d6a"
   },
   "outputs": [],
   "source": [
    "rt_movies['split_genres'] = rt_movies.genres.str.split(',').str[0]"
   ]
  },
  {
   "cell_type": "code",
   "execution_count": 16,
   "id": "5be8c3f8-7c56-4a21-a7c2-f285c9d94ba1",
   "metadata": {
    "colab": {
     "base_uri": "https://localhost:8080/"
    },
    "id": "66948ac8-aed0-417f-9f34-202866f7eec7",
    "outputId": "a71036ff-c0de-4ce0-d36c-0bda951f1b1c"
   },
   "outputs": [
    {
     "data": {
      "text/plain": [
       "Drama                        3789\n",
       "Comedy                       3725\n",
       "Action & Adventure           3551\n",
       "Art House & International    2021\n",
       "Documentary                  1725\n",
       "Classics                     1110\n",
       "Horror                        943\n",
       "Animation                     379\n",
       "Mystery & Suspense            289\n",
       "Kids & Family                  46\n",
       "Science Fiction & Fantasy      40\n",
       "Musical & Performing Arts      26\n",
       "Cult Movies                    22\n",
       "Romance                        14\n",
       "Western                         9\n",
       "Special Interest                3\n",
       "Television                      1\n",
       "Name: split_genres, dtype: int64"
      ]
     },
     "execution_count": 16,
     "metadata": {},
     "output_type": "execute_result"
    }
   ],
   "source": [
    "rt_movies.split_genres.value_counts()"
   ]
  },
  {
   "cell_type": "code",
   "execution_count": 17,
   "id": "1aff5c4a-05a8-4d44-b500-45db9510082f",
   "metadata": {
    "colab": {
     "base_uri": "https://localhost:8080/",
     "height": 605
    },
    "id": "e086c95b",
    "outputId": "c19d3aa8-6dc9-4d1d-c343-f1dc26452593"
   },
   "outputs": [
    {
     "data": {
      "text/plain": [
       "<AxesSubplot:title={'center':'Distribuição de gêneros dos filmes'}>"
      ]
     },
     "execution_count": 17,
     "metadata": {},
     "output_type": "execute_result"
    },
    {
     "data": {
      "image/png": "[encoded data removed]",
      "text/plain": [
       "<Figure size 1080x576 with 1 Axes>"
      ]
     },
     "metadata": {
      "needs_background": "light"
     },
     "output_type": "display_data"
    }
   ],
   "source": [
    "rt_movies.split_genres.value_counts().plot(kind='bar', figsize=(15,8), title='Distribuição de gêneros dos filmes', colormap='Pastel1', rot=45)"
   ]
  },
  {
   "cell_type": "code",
   "execution_count": 18,
   "id": "6f6238c7-5626-477a-a011-88ad6555920c",
   "metadata": {
    "colab": {
     "base_uri": "https://localhost:8080/"
    },
    "id": "c8a3b45d",
    "outputId": "1c23601d-65f4-48f1-efa1-1befaeaab6f8"
   },
   "outputs": [
    {
     "data": {
      "text/plain": [
       "100.0    964\n",
       "50.0     438\n",
       "88.0     408\n",
       "67.0     396\n",
       "83.0     396\n",
       "        ... \n",
       "4.0       46\n",
       "5.0       41\n",
       "3.0       21\n",
       "2.0       11\n",
       "1.0        6\n",
       "Name: tomatometer_rating, Length: 101, dtype: int64"
      ]
     },
     "execution_count": 18,
     "metadata": {},
     "output_type": "execute_result"
    }
   ],
   "source": [
    "rt_movies.tomatometer_rating.value_counts()"
   ]
  },
  {
   "cell_type": "code",
   "execution_count": 19,
   "id": "b68abb51-af6f-471d-9900-a22066462f3f",
   "metadata": {
    "colab": {
     "base_uri": "https://localhost:8080/",
     "height": 283
    },
    "id": "2927fb03",
    "outputId": "8b0ff20a-8f31-42d2-b96a-d5d45989f3b1"
   },
   "outputs": [
    {
     "data": {
      "text/plain": [
       "<AxesSubplot:>"
      ]
     },
     "execution_count": 19,
     "metadata": {},
     "output_type": "execute_result"
    },
    {
     "data": {
      "image/png": "[encoded data removed]",
      "text/plain": [
       "<Figure size 432x288 with 1 Axes>"
      ]
     },
     "metadata": {
      "needs_background": "light"
     },
     "output_type": "display_data"
    }
   ],
   "source": [
    "rt_movies.tomatometer_rating.plot(kind='box')"
   ]
  },
  {
   "cell_type": "code",
   "execution_count": 20,
   "id": "1a05aa3c-5463-4158-9e11-42b4c7e6bff6",
   "metadata": {
    "colab": {
     "base_uri": "https://localhost:8080/",
     "height": 261
    },
    "id": "87422dc4",
    "outputId": "bd22023b-00f1-4a83-bd0a-bd2d7599ccea"
   },
   "outputs": [
    {
     "data": {
      "text/html": [
       "<div>\n",
       "<style scoped>\n",
       "    .dataframe tbody tr th:only-of-type {\n",
       "        vertical-align: middle;\n",
       "    }\n",
       "\n",
       "    .dataframe tbody tr th {\n",
       "        vertical-align: top;\n",
       "    }\n",
       "\n",
       "    .dataframe thead th {\n",
       "        text-align: right;\n",
       "    }\n",
       "</style>\n",
       "<table border=\"1\" class=\"dataframe\">\n",
       "  <thead>\n",
       "    <tr style=\"text-align: right;\">\n",
       "      <th></th>\n",
       "      <th>rotten_tomatoes_link</th>\n",
       "      <th>movie_title</th>\n",
       "      <th>movie_info</th>\n",
       "      <th>critics_consensus</th>\n",
       "      <th>content_rating</th>\n",
       "      <th>genres</th>\n",
       "      <th>directors</th>\n",
       "      <th>authors</th>\n",
       "      <th>actors</th>\n",
       "      <th>original_release_date</th>\n",
       "      <th>...</th>\n",
       "      <th>tomatometer_status</th>\n",
       "      <th>tomatometer_rating</th>\n",
       "      <th>tomatometer_count</th>\n",
       "      <th>audience_status</th>\n",
       "      <th>audience_rating</th>\n",
       "      <th>audience_count</th>\n",
       "      <th>tomatometer_top_critics_count</th>\n",
       "      <th>tomatometer_fresh_critics_count</th>\n",
       "      <th>tomatometer_rotten_critics_count</th>\n",
       "      <th>split_genres</th>\n",
       "    </tr>\n",
       "  </thead>\n",
       "  <tbody>\n",
       "    <tr>\n",
       "      <th>10619</th>\n",
       "      <td>m/mother_2017</td>\n",
       "      <td>mother!</td>\n",
       "      <td>A young woman spends her days renovating the V...</td>\n",
       "      <td>There's no denying that mother! is the thought...</td>\n",
       "      <td>R</td>\n",
       "      <td>Drama, Horror, Mystery &amp; Suspense</td>\n",
       "      <td>Darren Aronofsky</td>\n",
       "      <td>Darren Aronofsky</td>\n",
       "      <td>Jennifer Lawrence, Javier Bardem, Ed Harris, M...</td>\n",
       "      <td>2017-09-15</td>\n",
       "      <td>...</td>\n",
       "      <td>Fresh</td>\n",
       "      <td>68.0</td>\n",
       "      <td>374.0</td>\n",
       "      <td>Spilled</td>\n",
       "      <td>51.0</td>\n",
       "      <td>24931.0</td>\n",
       "      <td>51</td>\n",
       "      <td>256</td>\n",
       "      <td>118</td>\n",
       "      <td>Drama</td>\n",
       "    </tr>\n",
       "  </tbody>\n",
       "</table>\n",
       "<p>1 rows × 23 columns</p>\n",
       "</div>"
      ],
      "text/plain": [
       "      rotten_tomatoes_link movie_title  \\\n",
       "10619        m/mother_2017     mother!   \n",
       "\n",
       "                                              movie_info  \\\n",
       "10619  A young woman spends her days renovating the V...   \n",
       "\n",
       "                                       critics_consensus content_rating  \\\n",
       "10619  There's no denying that mother! is the thought...              R   \n",
       "\n",
       "                                  genres         directors           authors  \\\n",
       "10619  Drama, Horror, Mystery & Suspense  Darren Aronofsky  Darren Aronofsky   \n",
       "\n",
       "                                                  actors  \\\n",
       "10619  Jennifer Lawrence, Javier Bardem, Ed Harris, M...   \n",
       "\n",
       "      original_release_date  ... tomatometer_status  tomatometer_rating  \\\n",
       "10619            2017-09-15  ...              Fresh                68.0   \n",
       "\n",
       "      tomatometer_count audience_status  audience_rating  audience_count  \\\n",
       "10619             374.0         Spilled             51.0         24931.0   \n",
       "\n",
       "      tomatometer_top_critics_count  tomatometer_fresh_critics_count  \\\n",
       "10619                            51                              256   \n",
       "\n",
       "       tomatometer_rotten_critics_count  split_genres  \n",
       "10619                               118         Drama  \n",
       "\n",
       "[1 rows x 23 columns]"
      ]
     },
     "execution_count": 20,
     "metadata": {},
     "output_type": "execute_result"
    }
   ],
   "source": [
    "rt_movies.loc[rt_movies.movie_title == 'mother!']"
   ]
  },
  {
   "cell_type": "code",
   "execution_count": 13,
   "id": "0ef113b2-5f4f-40aa-8d06-8a3219e863a3",
   "metadata": {
    "id": "144e4d38"
   },
   "outputs": [],
   "source": [
    "rt_movies.original_release_date.fillna('2222-02-02', inplace=True)"
   ]
  },
  {
   "cell_type": "code",
   "execution_count": 14,
   "id": "5f815dc8-5219-44fd-9aac-bb0397dd5214",
   "metadata": {
    "id": "2caeacf6"
   },
   "outputs": [],
   "source": [
    "rt_movies['original_release_date'] = pd.to_datetime(rt_movies['original_release_date'])"
   ]
  },
  {
   "cell_type": "code",
   "execution_count": 23,
   "id": "b2a06bd8-91dd-4944-ad35-230bfca9f4d8",
   "metadata": {
    "colab": {
     "base_uri": "https://localhost:8080/"
    },
    "id": "9ca754a1",
    "outputId": "6bbc40a3-f14b-47aa-ae72-e4bfb82f4b27"
   },
   "outputs": [
    {
     "data": {
      "text/plain": [
       "Timestamp('2020-09-30 00:00:00')"
      ]
     },
     "execution_count": 23,
     "metadata": {},
     "output_type": "execute_result"
    }
   ],
   "source": [
    "max(rt_movies.original_release_date.loc[rt_movies.original_release_date != '2222-02-02'])"
   ]
  },
  {
   "cell_type": "code",
   "execution_count": 24,
   "id": "ad724459-f1d2-4c43-9764-8e3ba0adcfa4",
   "metadata": {
    "colab": {
     "base_uri": "https://localhost:8080/"
    },
    "id": "82dbba0a",
    "outputId": "3c0952b7-6eb8-43b6-f8d3-606b40fad1ef",
    "scrolled": true
   },
   "outputs": [
    {
     "data": {
      "text/plain": [
       "Timestamp('1914-06-01 00:00:00')"
      ]
     },
     "execution_count": 24,
     "metadata": {},
     "output_type": "execute_result"
    }
   ],
   "source": [
    "min(rt_movies.original_release_date)"
   ]
  },
  {
   "cell_type": "code",
   "execution_count": 15,
   "id": "3040da7f-dd74-4c24-9c1a-70edac952d4c",
   "metadata": {
    "id": "b3af72b0"
   },
   "outputs": [],
   "source": [
    "rt_movies['movie_year'] = rt_movies.loc[rt_movies.original_release_date != '2222-02-02', \n",
    "                                        'original_release_date'].apply(lambda x: x.year)"
   ]
  },
  {
   "cell_type": "code",
   "execution_count": 26,
   "id": "004452a7-8b13-4768-9637-e12737f6d9ea",
   "metadata": {
    "colab": {
     "base_uri": "https://localhost:8080/",
     "height": 593
    },
    "id": "d3f106f1",
    "outputId": "7663c0bb-aff0-41e3-b762-5cb68d827b5c"
   },
   "outputs": [
    {
     "name": "stderr",
     "output_type": "stream",
     "text": [
      "C:\\Users\\barbara.oliveira\\Documents\\Particular\\TCC\\tccenv\\lib\\site-packages\\seaborn\\distributions.py:2619: FutureWarning: `distplot` is a deprecated function and will be removed in a future version. Please adapt your code to use either `displot` (a figure-level function with similar flexibility) or `histplot` (an axes-level function for histograms).\n",
      "  warnings.warn(msg, FutureWarning)\n"
     ]
    },
    {
     "data": {
      "image/png": "[encoded data removed]",
      "text/plain": [
       "<Figure size 936x576 with 1 Axes>"
      ]
     },
     "metadata": {
      "needs_background": "light"
     },
     "output_type": "display_data"
    }
   ],
   "source": [
    "plt.figure(figsize=(13,8))\n",
    "plt.title('Filmes por ano', size=20)\n",
    "sns.distplot(rt_movies.movie_year, kde=False)\n",
    "plt.ylabel('Número de filmes', size=15)\n",
    "plt.xlabel('Ano do lançamento',size=15)\n",
    "plt.axis([1920, 2020, 0, 1750])\n",
    "plt.xticks(np.arange(1920, 2021, step=2),rotation=90, ha='right')\n",
    "plt.show()"
   ]
  },
  {
   "cell_type": "markdown",
   "id": "bee561a6-2503-46c6-9dd6-e405d85b0a06",
   "metadata": {
    "id": "f1b0ca7c",
    "tags": []
   },
   "source": [
    "### Reviews dataset"
   ]
  },
  {
   "cell_type": "code",
   "execution_count": 27,
   "id": "2fcc8de3-85a7-4da2-a836-5a5f7302107b",
   "metadata": {
    "colab": {
     "base_uri": "https://localhost:8080/",
     "height": 206
    },
    "id": "e56e129e",
    "outputId": "e9b6c294-a707-4393-f2ef-c5418c65a197",
    "scrolled": true
   },
   "outputs": [
    {
     "data": {
      "text/html": [
       "<div>\n",
       "<style scoped>\n",
       "    .dataframe tbody tr th:only-of-type {\n",
       "        vertical-align: middle;\n",
       "    }\n",
       "\n",
       "    .dataframe tbody tr th {\n",
       "        vertical-align: top;\n",
       "    }\n",
       "\n",
       "    .dataframe thead th {\n",
       "        text-align: right;\n",
       "    }\n",
       "</style>\n",
       "<table border=\"1\" class=\"dataframe\">\n",
       "  <thead>\n",
       "    <tr style=\"text-align: right;\">\n",
       "      <th></th>\n",
       "      <th>rotten_tomatoes_link</th>\n",
       "      <th>critic_name</th>\n",
       "      <th>top_critic</th>\n",
       "      <th>publisher_name</th>\n",
       "      <th>review_type</th>\n",
       "      <th>review_score</th>\n",
       "      <th>review_date</th>\n",
       "      <th>review_content</th>\n",
       "    </tr>\n",
       "  </thead>\n",
       "  <tbody>\n",
       "    <tr>\n",
       "      <th>0</th>\n",
       "      <td>m/0814255</td>\n",
       "      <td>Andrew L. Urban</td>\n",
       "      <td>False</td>\n",
       "      <td>Urban Cinefile</td>\n",
       "      <td>Fresh</td>\n",
       "      <td>NaN</td>\n",
       "      <td>2010-02-06</td>\n",
       "      <td>A fantasy adventure that fuses Greek mythology...</td>\n",
       "    </tr>\n",
       "    <tr>\n",
       "      <th>1</th>\n",
       "      <td>m/0814255</td>\n",
       "      <td>Louise Keller</td>\n",
       "      <td>False</td>\n",
       "      <td>Urban Cinefile</td>\n",
       "      <td>Fresh</td>\n",
       "      <td>NaN</td>\n",
       "      <td>2010-02-06</td>\n",
       "      <td>Uma Thurman as Medusa, the gorgon with a coiff...</td>\n",
       "    </tr>\n",
       "    <tr>\n",
       "      <th>2</th>\n",
       "      <td>m/0814255</td>\n",
       "      <td>NaN</td>\n",
       "      <td>False</td>\n",
       "      <td>FILMINK (Australia)</td>\n",
       "      <td>Fresh</td>\n",
       "      <td>NaN</td>\n",
       "      <td>2010-02-09</td>\n",
       "      <td>With a top-notch cast and dazzling special eff...</td>\n",
       "    </tr>\n",
       "    <tr>\n",
       "      <th>3</th>\n",
       "      <td>m/0814255</td>\n",
       "      <td>Ben McEachen</td>\n",
       "      <td>False</td>\n",
       "      <td>Sunday Mail (Australia)</td>\n",
       "      <td>Fresh</td>\n",
       "      <td>3.5/5</td>\n",
       "      <td>2010-02-09</td>\n",
       "      <td>Whether audiences will get behind The Lightnin...</td>\n",
       "    </tr>\n",
       "    <tr>\n",
       "      <th>4</th>\n",
       "      <td>m/0814255</td>\n",
       "      <td>Ethan Alter</td>\n",
       "      <td>True</td>\n",
       "      <td>Hollywood Reporter</td>\n",
       "      <td>Rotten</td>\n",
       "      <td>NaN</td>\n",
       "      <td>2010-02-10</td>\n",
       "      <td>What's really lacking in The Lightning Thief i...</td>\n",
       "    </tr>\n",
       "  </tbody>\n",
       "</table>\n",
       "</div>"
      ],
      "text/plain": [
       "  rotten_tomatoes_link      critic_name  top_critic           publisher_name  \\\n",
       "0            m/0814255  Andrew L. Urban       False           Urban Cinefile   \n",
       "1            m/0814255    Louise Keller       False           Urban Cinefile   \n",
       "2            m/0814255              NaN       False      FILMINK (Australia)   \n",
       "3            m/0814255     Ben McEachen       False  Sunday Mail (Australia)   \n",
       "4            m/0814255      Ethan Alter        True       Hollywood Reporter   \n",
       "\n",
       "  review_type review_score review_date  \\\n",
       "0       Fresh          NaN  2010-02-06   \n",
       "1       Fresh          NaN  2010-02-06   \n",
       "2       Fresh          NaN  2010-02-09   \n",
       "3       Fresh        3.5/5  2010-02-09   \n",
       "4      Rotten          NaN  2010-02-10   \n",
       "\n",
       "                                      review_content  \n",
       "0  A fantasy adventure that fuses Greek mythology...  \n",
       "1  Uma Thurman as Medusa, the gorgon with a coiff...  \n",
       "2  With a top-notch cast and dazzling special eff...  \n",
       "3  Whether audiences will get behind The Lightnin...  \n",
       "4  What's really lacking in The Lightning Thief i...  "
      ]
     },
     "execution_count": 27,
     "metadata": {},
     "output_type": "execute_result"
    }
   ],
   "source": [
    "rt_reviews.head()"
   ]
  },
  {
   "cell_type": "code",
   "execution_count": 5,
   "id": "d482470a-3832-4a93-b715-c0b7c225841d",
   "metadata": {
    "colab": {
     "base_uri": "https://localhost:8080/"
    },
    "id": "d9b965df",
    "outputId": "36d677f8-6b1d-491c-f462-54d1ceff86b5",
    "scrolled": true,
    "tags": []
   },
   "outputs": [
    {
     "data": {
      "text/plain": [
       "rotten_tomatoes_link         0\n",
       "critic_name              18529\n",
       "top_critic                   0\n",
       "publisher_name               0\n",
       "review_type                  0\n",
       "review_score            305936\n",
       "review_date                  0\n",
       "review_content           65806\n",
       "dtype: int64"
      ]
     },
     "execution_count": 5,
     "metadata": {},
     "output_type": "execute_result"
    }
   ],
   "source": [
    "rt_reviews.isnull().sum()"
   ]
  },
  {
   "cell_type": "code",
   "execution_count": 30,
   "id": "a501acfe-9851-4df3-9c60-34ccd545ad69",
   "metadata": {
    "colab": {
     "base_uri": "https://localhost:8080/"
    },
    "id": "685e0a93",
    "outputId": "548e26c0-696f-45e2-af1b-9437bfefd20a"
   },
   "outputs": [
    {
     "data": {
      "text/plain": [
       "Fresh     720210\n",
       "Rotten    409807\n",
       "Name: review_type, dtype: int64"
      ]
     },
     "execution_count": 30,
     "metadata": {},
     "output_type": "execute_result"
    }
   ],
   "source": [
    "rt_reviews.review_type.value_counts()"
   ]
  },
  {
   "cell_type": "code",
   "execution_count": 31,
   "id": "ef2b7425-1e5e-461c-a220-fed8e5618209",
   "metadata": {
    "colab": {
     "base_uri": "https://localhost:8080/",
     "height": 265
    },
    "id": "ca7f07f6",
    "outputId": "f2da7d07-b69d-4258-ccc0-1d7c1c1ad1ba"
   },
   "outputs": [
    {
     "data": {
      "text/plain": [
       "<AxesSubplot:ylabel='review_type'>"
      ]
     },
     "execution_count": 31,
     "metadata": {},
     "output_type": "execute_result"
    },
    {
     "data": {
      "image/png": "[encoded data removed]",
      "text/plain": [
       "<Figure size 432x288 with 1 Axes>"
      ]
     },
     "metadata": {},
     "output_type": "display_data"
    }
   ],
   "source": [
    "rt_reviews.review_type.value_counts().plot(kind='pie', autopct='%1.1f%%')"
   ]
  },
  {
   "cell_type": "code",
   "execution_count": 32,
   "id": "09b5a987-0b4c-421a-8858-f530beb69efd",
   "metadata": {
    "colab": {
     "base_uri": "https://localhost:8080/"
    },
    "id": "d25639e9",
    "outputId": "684ca2c8-b003-4088-db29-e42893333e03"
   },
   "outputs": [
    {
     "data": {
      "text/plain": [
       "3/5        90273\n",
       "4/5        83659\n",
       "3/4        72366\n",
       "2/5        60174\n",
       "2/4        47546\n",
       "           ...  \n",
       "69/70          1\n",
       "2.5/20         1\n",
       "5.55/10        1\n",
       "35             1\n",
       "9.56/10        1\n",
       "Name: review_score, Length: 814, dtype: int64"
      ]
     },
     "execution_count": 32,
     "metadata": {},
     "output_type": "execute_result"
    }
   ],
   "source": [
    "rt_reviews.review_score.value_counts()"
   ]
  },
  {
   "cell_type": "code",
   "execution_count": 6,
   "id": "f0f86526-5777-4455-a5b0-2ad6abc08dec",
   "metadata": {
    "id": "9695cdfe"
   },
   "outputs": [],
   "source": [
    "rt_reviews['review_date'] = pd.to_datetime(rt_reviews['review_date'])"
   ]
  },
  {
   "cell_type": "code",
   "execution_count": 7,
   "id": "900dce2f-c278-4980-a010-f46fe3e369c4",
   "metadata": {
    "id": "5eb2c6b9"
   },
   "outputs": [],
   "source": [
    "rt_reviews['review_year'] = rt_reviews['review_date'].apply(lambda x: x.year)"
   ]
  },
  {
   "cell_type": "code",
   "execution_count": 8,
   "id": "735f3a0f-9b2a-4b20-b5d2-a0dd637c8c39",
   "metadata": {
    "id": "ce5f9d40"
   },
   "outputs": [],
   "source": [
    "rt_reviews = rt_reviews[rt_reviews.review_content.notnull()]"
   ]
  },
  {
   "cell_type": "code",
   "execution_count": 9,
   "id": "e05a070b-689c-451c-99a1-c38031055d05",
   "metadata": {
    "colab": {
     "base_uri": "https://localhost:8080/"
    },
    "id": "85065e8d",
    "outputId": "cc0f5523-b845-49dd-fda8-067c4755df9a"
   },
   "outputs": [
    {
     "data": {
      "text/plain": [
       "Fresh     681035\n",
       "Rotten    383176\n",
       "Name: review_type, dtype: int64"
      ]
     },
     "execution_count": 9,
     "metadata": {},
     "output_type": "execute_result"
    }
   ],
   "source": [
    "rt_reviews.review_type.value_counts()"
   ]
  },
  {
   "cell_type": "code",
   "execution_count": 17,
   "id": "92072ebc-1545-4691-82a8-82917b3ec6e2",
   "metadata": {
    "id": "8eoGRpJPTaCM"
   },
   "outputs": [],
   "source": [
    "merged = rt_movies.merge(rt_reviews, on=\"rotten_tomatoes_link\", how=\"inner\")"
   ]
  },
  {
   "cell_type": "code",
   "execution_count": 18,
   "id": "f3f5ff36-794f-4c7f-83e7-843f96d3a1ae",
   "metadata": {
    "colab": {
     "base_uri": "https://localhost:8080/",
     "height": 650
    },
    "id": "03914fc9-b811-44f7-8f34-4d5e500497e9",
    "outputId": "e7decb41-b128-4bf6-b834-9b337c6def43"
   },
   "outputs": [
    {
     "data": {
      "text/plain": [
       "<AxesSubplot:title={'center':'Distribuição de gêneros dos filmes'}, xlabel='split_genres'>"
      ]
     },
     "execution_count": 18,
     "metadata": {},
     "output_type": "execute_result"
    },
    {
     "data": {
      "image/png": "[encoded data removed]",
      "text/plain": [
       "<Figure size 936x576 with 1 Axes>"
      ]
     },
     "metadata": {
      "needs_background": "light"
     },
     "output_type": "display_data"
    }
   ],
   "source": [
    "pd.crosstab(merged['split_genres'],merged['review_type']).sort_values(by= \"Fresh\", ascending=False).plot.bar(figsize=(13,8), title='Distribuição de gêneros dos filmes', stacked=True,  rot=90)"
   ]
  },
  {
   "cell_type": "code",
   "execution_count": 19,
   "id": "75f7df81-5c72-489a-89dc-ffe42abed1b1",
   "metadata": {
    "colab": {
     "base_uri": "https://localhost:8080/",
     "height": 265
    },
    "id": "HVBWpulOQUD0",
    "outputId": "2fd37abf-6fc1-4f9a-d9b6-8e85c454e995"
   },
   "outputs": [
    {
     "data": {
      "text/plain": [
       "<AxesSubplot:ylabel='review_type'>"
      ]
     },
     "execution_count": 19,
     "metadata": {},
     "output_type": "execute_result"
    },
    {
     "data": {
      "image/png": "[encoded data removed]",
      "text/plain": [
       "<Figure size 432x288 with 1 Axes>"
      ]
     },
     "metadata": {},
     "output_type": "display_data"
    }
   ],
   "source": [
    "rt_reviews.review_type.value_counts().plot(kind='pie', autopct='%1.1f%%')"
   ]
  },
  {
   "cell_type": "code",
   "execution_count": 40,
   "id": "9e11b36f-5059-4945-b45a-d0e6997e1a3b",
   "metadata": {
    "colab": {
     "base_uri": "https://localhost:8080/"
    },
    "id": "e5f07808",
    "outputId": "2f8cb29e-6194-4e4a-e117-5f6503d0e0bc",
    "scrolled": true
   },
   "outputs": [
    {
     "data": {
      "text/plain": [
       "2019    81900\n",
       "2018    76295\n",
       "2017    60572\n",
       "2016    57876\n",
       "2015    55280\n",
       "2013    53932\n",
       "2011    51337\n",
       "2014    51006\n",
       "2007    50690\n",
       "2012    50583\n",
       "2008    48861\n",
       "2009    48504\n",
       "2010    47417\n",
       "2006    47345\n",
       "2020    45739\n",
       "2005    43544\n",
       "2004    42902\n",
       "2003    42406\n",
       "2002    42283\n",
       "2000    41078\n",
       "2001    24300\n",
       "1996       28\n",
       "1998       27\n",
       "1994       26\n",
       "1990       24\n",
       "Name: review_year, dtype: int64"
      ]
     },
     "execution_count": 40,
     "metadata": {},
     "output_type": "execute_result"
    }
   ],
   "source": [
    "rt_reviews.review_year.value_counts().head(25)"
   ]
  },
  {
   "cell_type": "code",
   "execution_count": 24,
   "id": "fa4d469d-7f8f-4d0f-aa4c-0f76387bb2d9",
   "metadata": {
    "colab": {
     "base_uri": "https://localhost:8080/",
     "height": 553
    },
    "id": "ca0a7ae4",
    "outputId": "135cce1e-2bf0-44b7-98d8-2f96229bbd4b"
   },
   "outputs": [
    {
     "data": {
      "image/png": "[encoded data removed]",
      "text/plain": [
       "<Figure size 1008x504 with 1 Axes>"
      ]
     },
     "metadata": {
      "needs_background": "light"
     },
     "output_type": "display_data"
    }
   ],
   "source": [
    "sns.displot(rt_reviews.loc[rt_reviews.review_year >= 2000, 'review_year'], bins=20, height=7, aspect=2)\n",
    "plt.title('Reviews por ano', size=20)\n",
    "plt.ylabel('Número de reviews', size=15)\n",
    "plt.xlabel('Ano do review',size=15)\n",
    "plt.axis([2000, 2019, 0, 90000])\n",
    "plt.xticks(np.arange(2000, 2019, step=1),rotation=45, ha='right')\n",
    "plt.show()\n"
   ]
  },
  {
   "cell_type": "markdown",
   "id": "bc41f693-0091-4d66-a274-7a8be58edaba",
   "metadata": {
    "jp-MarkdownHeadingCollapsed": true,
    "tags": []
   },
   "source": [
    "### Salvar arquivos pré-processados"
   ]
  },
  {
   "cell_type": "code",
   "execution_count": 43,
   "id": "12ced291-1bff-4fcd-9273-e6e961ca5ef3",
   "metadata": {},
   "outputs": [],
   "source": [
    "rt_reviews.to_csv(os.path.join(files_path, \"rt_reviews.csv\"))"
   ]
  },
  {
   "cell_type": "code",
   "execution_count": 44,
   "id": "8ad7b2d5-1773-4f72-8756-07901fa8b817",
   "metadata": {},
   "outputs": [],
   "source": [
    "rt_movies.to_csv(os.path.join(files_path, \"rt_movies.csv\"))"
   ]
  }
 ],
 "metadata": {
  "kernelspec": {
   "display_name": "Python 3 (ipykernel)",
   "language": "python",
   "name": "python3"
  },
  "language_info": {
   "codemirror_mode": {
    "name": "ipython",
    "version": 3
   },
   "file_extension": ".py",
   "mimetype": "text/x-python",
   "name": "python",
   "nbconvert_exporter": "python",
   "pygments_lexer": "ipython3",
   "version": "3.10.2"
  }
 },
 "nbformat": 4,
 "nbformat_minor": 5
}
